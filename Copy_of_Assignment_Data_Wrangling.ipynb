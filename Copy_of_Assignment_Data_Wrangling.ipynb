{
  "nbformat": 4,
  "nbformat_minor": 0,
  "metadata": {
    "kernelspec": {
      "display_name": "Python 3",
      "language": "python",
      "name": "python3"
    },
    "language_info": {
      "codemirror_mode": {
        "name": "ipython",
        "version": 3
      },
      "file_extension": ".py",
      "mimetype": "text/x-python",
      "name": "python",
      "nbconvert_exporter": "python",
      "pygments_lexer": "ipython3",
      "version": "3.7.1"
    },
    "colab": {
      "name": "Copy of Assignment - Data Wrangling.ipynb",
      "provenance": [],
      "collapsed_sections": [],
      "include_colab_link": true
    }
  },
  "cells": [
    {
      "cell_type": "markdown",
      "metadata": {
        "id": "view-in-github",
        "colab_type": "text"
      },
      "source": [
        "<a href=\"https://colab.research.google.com/github/megha-mv/AIRBNB-PROJECT-1-CAPSTON/blob/main/Copy_of_Assignment_Data_Wrangling.ipynb\" target=\"_parent\"><img src=\"https://colab.research.google.com/assets/colab-badge.svg\" alt=\"Open In Colab\"/></a>"
      ]
    },
    {
      "cell_type": "markdown",
      "metadata": {
        "id": "WEPecVgEVrP_"
      },
      "source": [
        "## <u> Use only those concepts which have been taught till now </u>"
      ]
    },
    {
      "cell_type": "code",
      "metadata": {
        "id": "HXet0gIkNRiN",
        "colab": {
          "base_uri": "https://localhost:8080/"
        },
        "outputId": "c56f6732-4965-4f52-9ecb-0910ad92a41a"
      },
      "source": [
        "from google.colab import drive\n",
        "drive.mount('/content/drive')"
      ],
      "execution_count": 1,
      "outputs": [
        {
          "output_type": "stream",
          "text": [
            "Mounted at /content/drive\n"
          ],
          "name": "stdout"
        }
      ]
    },
    {
      "cell_type": "code",
      "metadata": {
        "id": "CNtzSjTdN7k9"
      },
      "source": [
        "#import modules\n",
        "import numpy as np\n",
        "import pandas as pd\n",
        "import matplotlib.pyplot as plt"
      ],
      "execution_count": 219,
      "outputs": []
    },
    {
      "cell_type": "markdown",
      "metadata": {
        "id": "UCW8FaGk-pd0"
      },
      "source": [
        "# <b><u> Problem 1: </u> Which actor has acted in the most number of movies? Deep dive into the movies, genres and profits corresponding to this actor. </b>"
      ]
    },
    {
      "cell_type": "code",
      "metadata": {
        "id": "qxoFK4MSQZ98"
      },
      "source": [
        "#Read CSV data\n",
        "dir_path='/content/drive/MyDrive/Colab Notebooks/pandas/dat/'\n",
        "df_imdb=pd.read_csv(dir_path+'imdb_data.csv')\n",
        "# df_imdb.head(3)"
      ],
      "execution_count": 220,
      "outputs": []
    },
    {
      "cell_type": "code",
      "metadata": {
        "colab": {
          "base_uri": "https://localhost:8080/"
        },
        "id": "4yTqN2edQ3Aj",
        "outputId": "e50abd3e-14c2-4224-d511-d07635727b8e"
      },
      "source": [
        "#check the data\n",
        "# df_imdb.info()\n",
        "#check the null values\n",
        "# df_imdb.isnull().sum()\n",
        "#Total null values in whole dataframe\n",
        "# df_imdb.isnull().sum().sum()\n",
        "#\n",
        "df_imdb.isnull().values.any()                            # will return true if there are any null values in dataframe\n",
        "# \n",
        "#check which rows in particular column has null values\n",
        "# nan_rows=df_imdb[df_imdb['genres'].isnull()]\n",
        "# nan_rows\n",
        "#\n",
        "# df_imdb.isnull().T.any().T.sum()                                   #will return how many rows are there having NaNs \n",
        "#\n",
        "# nan_rows = df_imdb[df_imdb.isnull().T.any()]                          # This will return all the rows having null values in any of the columnc\n",
        "# \n",
        "#check if the particular column has null value\n",
        "df_imdb['genres'].isnull().sum()\n",
        "\n",
        "# another way to check if particular column (series) has null values or not\n",
        "df_imdb['genres'].hasnans"
      ],
      "execution_count": 221,
      "outputs": [
        {
          "output_type": "execute_result",
          "data": {
            "text/plain": [
              "True"
            ]
          },
          "metadata": {
            "tags": []
          },
          "execution_count": 221
        }
      ]
    },
    {
      "cell_type": "code",
      "metadata": {
        "colab": {
          "base_uri": "https://localhost:8080/"
        },
        "id": "dlE9WW1_J1hy",
        "outputId": "9d60a2e3-8b32-419c-aeb1-01ed6fa06c9b"
      },
      "source": [
        "df_imdb.info()"
      ],
      "execution_count": 222,
      "outputs": [
        {
          "output_type": "stream",
          "text": [
            "<class 'pandas.core.frame.DataFrame'>\n",
            "RangeIndex: 3000 entries, 0 to 2999\n",
            "Data columns (total 23 columns):\n",
            " #   Column                 Non-Null Count  Dtype  \n",
            "---  ------                 --------------  -----  \n",
            " 0   id                     3000 non-null   int64  \n",
            " 1   belongs_to_collection  604 non-null    object \n",
            " 2   budget                 3000 non-null   int64  \n",
            " 3   genres                 2993 non-null   object \n",
            " 4   homepage               946 non-null    object \n",
            " 5   imdb_id                3000 non-null   object \n",
            " 6   original_language      3000 non-null   object \n",
            " 7   original_title         3000 non-null   object \n",
            " 8   overview               2992 non-null   object \n",
            " 9   popularity             3000 non-null   float64\n",
            " 10  poster_path            2999 non-null   object \n",
            " 11  production_companies   2844 non-null   object \n",
            " 12  production_countries   2945 non-null   object \n",
            " 13  release_date           3000 non-null   object \n",
            " 14  runtime                2998 non-null   float64\n",
            " 15  spoken_languages       2980 non-null   object \n",
            " 16  status                 3000 non-null   object \n",
            " 17  tagline                2403 non-null   object \n",
            " 18  title                  3000 non-null   object \n",
            " 19  Keywords               2724 non-null   object \n",
            " 20  cast                   2987 non-null   object \n",
            " 21  crew                   2984 non-null   object \n",
            " 22  revenue                3000 non-null   int64  \n",
            "dtypes: float64(2), int64(3), object(18)\n",
            "memory usage: 539.2+ KB\n"
          ],
          "name": "stdout"
        }
      ]
    },
    {
      "cell_type": "code",
      "metadata": {
        "id": "jI39LRd3-pd2",
        "colab": {
          "base_uri": "https://localhost:8080/"
        },
        "outputId": "55e2488e-b69a-4989-e0b9-d7136164b885"
      },
      "source": [
        "# Your code here\n",
        "#check if Genres has null value and how many\n",
        "# df_imdb['genres'].isnull().sum()\n",
        "column1=['genres']\n",
        "df_imdb_genres=pd.DataFrame(df_imdb,columns=column1)\n",
        "# df_imdb_genres.isnull().sum()\n",
        "df_imdb_genres.replace(np.nan,None,inplace=True)\n",
        "df_imdb_genres['genres'].hasnans"
      ],
      "execution_count": 223,
      "outputs": [
        {
          "output_type": "execute_result",
          "data": {
            "text/plain": [
              "False"
            ]
          },
          "metadata": {
            "tags": []
          },
          "execution_count": 223
        }
      ]
    },
    {
      "cell_type": "code",
      "metadata": {
        "colab": {
          "base_uri": "https://localhost:8080/"
        },
        "id": "J7wPnSs8YrLn",
        "outputId": "5c0f32cf-cdc5-4864-e250-fc99075227d4"
      },
      "source": [
        "# Create Dataframe having movies name and their cast\n",
        "column2=['original_title','cast']\n",
        "df_movies=pd.DataFrame(df_imdb,columns=column2)\n",
        "# df_movies.isnull().sum()\n",
        "#as cast have some null values so we need to choose only those rows from cast column which have not null valuess\n",
        "df_movies.loc[~df_movies['cast'].isna(),'cast']\n",
        "#check the type of original_title and cast\n",
        "type(df_movies.loc[0,'original_title'])\n",
        "type(df_movies.loc[0,'cast'])\n",
        "\n"
      ],
      "execution_count": 224,
      "outputs": [
        {
          "output_type": "execute_result",
          "data": {
            "text/plain": [
              "str"
            ]
          },
          "metadata": {
            "tags": []
          },
          "execution_count": 224
        }
      ]
    },
    {
      "cell_type": "code",
      "metadata": {
        "id": "uJgxLVSgYwWN"
      },
      "source": [
        "df_movies.dropna(inplace=True)"
      ],
      "execution_count": 225,
      "outputs": []
    },
    {
      "cell_type": "code",
      "metadata": {
        "id": "Wc5SUEJaf0oC"
      },
      "source": [
        "#convert this string to list to apply multiple operations and this will be applied to only non null rows\n",
        "def convert(str):\n",
        "  return eval(str)"
      ],
      "execution_count": 226,
      "outputs": []
    },
    {
      "cell_type": "code",
      "metadata": {
        "colab": {
          "base_uri": "https://localhost:8080/"
        },
        "id": "374p0JhaczDe",
        "outputId": "40214438-88e7-4c46-e307-8d4e6c6b8c77"
      },
      "source": [
        "#convert the str into list\n",
        "df_movies['cast']=df_movies['cast'].apply(convert)\n",
        "type(df_movies.loc[0,'cast'])\n"
      ],
      "execution_count": 227,
      "outputs": [
        {
          "output_type": "execute_result",
          "data": {
            "text/plain": [
              "list"
            ]
          },
          "metadata": {
            "tags": []
          },
          "execution_count": 227
        }
      ]
    },
    {
      "cell_type": "code",
      "metadata": {
        "id": "mvBljBT1s3AX"
      },
      "source": [
        "#Fetching name from this cast_list\n",
        "def actor_name(cast):\n",
        "  actor=[]\n",
        "  for elem in cast:\n",
        "    actor.append(elem['name']) \n",
        "\n",
        "  return actor"
      ],
      "execution_count": 228,
      "outputs": []
    },
    {
      "cell_type": "code",
      "metadata": {
        "colab": {
          "base_uri": "https://localhost:8080/",
          "height": 204
        },
        "id": "ZnV1LKR5Drfw",
        "outputId": "83dc196b-2921-4b5a-b099-b62708134b05"
      },
      "source": [
        "#create a new column having only name\n",
        "df_movies['actors']=df_movies.apply(lambda x:actor_name(x['cast']),axis=1)\n",
        "df_movies.head(5)"
      ],
      "execution_count": 229,
      "outputs": [
        {
          "output_type": "execute_result",
          "data": {
            "text/html": [
              "<div>\n",
              "<style scoped>\n",
              "    .dataframe tbody tr th:only-of-type {\n",
              "        vertical-align: middle;\n",
              "    }\n",
              "\n",
              "    .dataframe tbody tr th {\n",
              "        vertical-align: top;\n",
              "    }\n",
              "\n",
              "    .dataframe thead th {\n",
              "        text-align: right;\n",
              "    }\n",
              "</style>\n",
              "<table border=\"1\" class=\"dataframe\">\n",
              "  <thead>\n",
              "    <tr style=\"text-align: right;\">\n",
              "      <th></th>\n",
              "      <th>original_title</th>\n",
              "      <th>cast</th>\n",
              "      <th>actors</th>\n",
              "    </tr>\n",
              "  </thead>\n",
              "  <tbody>\n",
              "    <tr>\n",
              "      <th>0</th>\n",
              "      <td>Hot Tub Time Machine 2</td>\n",
              "      <td>[{'cast_id': 4, 'character': 'Lou', 'credit_id...</td>\n",
              "      <td>[Rob Corddry, Craig Robinson, Clark Duke, Adam...</td>\n",
              "    </tr>\n",
              "    <tr>\n",
              "      <th>1</th>\n",
              "      <td>The Princess Diaries 2: Royal Engagement</td>\n",
              "      <td>[{'cast_id': 1, 'character': 'Mia Thermopolis'...</td>\n",
              "      <td>[Anne Hathaway, Julie Andrews, H√©ctor Elizond...</td>\n",
              "    </tr>\n",
              "    <tr>\n",
              "      <th>2</th>\n",
              "      <td>Whiplash</td>\n",
              "      <td>[{'cast_id': 5, 'character': 'Andrew Neimann',...</td>\n",
              "      <td>[Miles Teller, J.K. Simmons, Melissa Benoist, ...</td>\n",
              "    </tr>\n",
              "    <tr>\n",
              "      <th>3</th>\n",
              "      <td>Kahaani</td>\n",
              "      <td>[{'cast_id': 1, 'character': 'Vidya Bagchi', '...</td>\n",
              "      <td>[Vidya Balan, Nawazuddin Siddiqui, Parambrata ...</td>\n",
              "    </tr>\n",
              "    <tr>\n",
              "      <th>4</th>\n",
              "      <td>마린보이</td>\n",
              "      <td>[{'cast_id': 3, 'character': 'Chun-soo', 'cred...</td>\n",
              "      <td>[Kim Kang-woo, Jo Jae-hyeon, Park Si-yeon, Kim...</td>\n",
              "    </tr>\n",
              "  </tbody>\n",
              "</table>\n",
              "</div>"
            ],
            "text/plain": [
              "                             original_title  ...                                             actors\n",
              "0                    Hot Tub Time Machine 2  ...  [Rob Corddry, Craig Robinson, Clark Duke, Adam...\n",
              "1  The Princess Diaries 2: Royal Engagement  ...  [Anne Hathaway, Julie Andrews, H√©ctor Elizond...\n",
              "2                                  Whiplash  ...  [Miles Teller, J.K. Simmons, Melissa Benoist, ...\n",
              "3                                   Kahaani  ...  [Vidya Balan, Nawazuddin Siddiqui, Parambrata ...\n",
              "4                                      마린보이  ...  [Kim Kang-woo, Jo Jae-hyeon, Park Si-yeon, Kim...\n",
              "\n",
              "[5 rows x 3 columns]"
            ]
          },
          "metadata": {
            "tags": []
          },
          "execution_count": 229
        }
      ]
    },
    {
      "cell_type": "code",
      "metadata": {
        "id": "tiNUneZg--9X"
      },
      "source": [
        "#from the name list of actors to fetch the movie count for each actor\n",
        "#We need to arrange the data of actors present in list to row but in one column\n",
        "#for this lets take another dataframe having only actors details\n",
        "column_act=['actors']\n",
        "df_org_cast_act=pd.DataFrame(df_movies,columns=column_act)"
      ],
      "execution_count": 230,
      "outputs": []
    },
    {
      "cell_type": "code",
      "metadata": {
        "id": "qAV6NEUn_bs7"
      },
      "source": [
        "#Explode here will convert the list to different row\n",
        "df_org_cast_act=df_org_cast_act.explode('actors')"
      ],
      "execution_count": 231,
      "outputs": []
    },
    {
      "cell_type": "code",
      "metadata": {
        "colab": {
          "base_uri": "https://localhost:8080/"
        },
        "id": "6FAw_oev_l7C",
        "outputId": "c338c661-3cf8-4738-9242-c4379cf3d2f5"
      },
      "source": [
        "#value_counts() will count the number of times a name appears in the row\n",
        "#This count is nothing but the name appearing in each list\n",
        "df_org_cast_act['actors'].value_counts()"
      ],
      "execution_count": 232,
      "outputs": [
        {
          "output_type": "execute_result",
          "data": {
            "text/plain": [
              "Robert De Niro       30\n",
              "Samuel L. Jackson    30\n",
              "Morgan Freeman       27\n",
              "Bruce Willis         25\n",
              "Susan Sarandon       25\n",
              "                     ..\n",
              "Ivan Krasko           1\n",
              "Marisa Petroro        1\n",
              "Jano Badovinac        1\n",
              "Tom McBeath           1\n",
              "Nancy Borgenicht      1\n",
              "Name: actors, Length: 38588, dtype: int64"
            ]
          },
          "metadata": {
            "tags": []
          },
          "execution_count": 232
        }
      ]
    },
    {
      "cell_type": "markdown",
      "metadata": {
        "id": "uixtZVzQ_zMF"
      },
      "source": [
        "So from here we can conclude that **\"Robert De Niro\" and 'Samuel L. Jackson'** worked in most number of \n",
        "movies\n",
        "\n",
        "---\n",
        "\n",
        "\n",
        "\n",
        "\n",
        "\n"
      ]
    },
    {
      "cell_type": "markdown",
      "metadata": {
        "id": "QlQXvEQN-pd9"
      },
      "source": [
        "# <b><u> Problem 2 :</u> Top 3 directors prefer which actors the most?"
      ]
    },
    {
      "cell_type": "code",
      "metadata": {
        "colab": {
          "base_uri": "https://localhost:8080/"
        },
        "id": "RdAALwOmDFIS",
        "outputId": "5bb9fd5b-e1bc-4655-ea43-ed3767804e62"
      },
      "source": [
        "df_imdb.info()"
      ],
      "execution_count": 233,
      "outputs": [
        {
          "output_type": "stream",
          "text": [
            "<class 'pandas.core.frame.DataFrame'>\n",
            "RangeIndex: 3000 entries, 0 to 2999\n",
            "Data columns (total 23 columns):\n",
            " #   Column                 Non-Null Count  Dtype  \n",
            "---  ------                 --------------  -----  \n",
            " 0   id                     3000 non-null   int64  \n",
            " 1   belongs_to_collection  604 non-null    object \n",
            " 2   budget                 3000 non-null   int64  \n",
            " 3   genres                 2993 non-null   object \n",
            " 4   homepage               946 non-null    object \n",
            " 5   imdb_id                3000 non-null   object \n",
            " 6   original_language      3000 non-null   object \n",
            " 7   original_title         3000 non-null   object \n",
            " 8   overview               2992 non-null   object \n",
            " 9   popularity             3000 non-null   float64\n",
            " 10  poster_path            2999 non-null   object \n",
            " 11  production_companies   2844 non-null   object \n",
            " 12  production_countries   2945 non-null   object \n",
            " 13  release_date           3000 non-null   object \n",
            " 14  runtime                2998 non-null   float64\n",
            " 15  spoken_languages       2980 non-null   object \n",
            " 16  status                 3000 non-null   object \n",
            " 17  tagline                2403 non-null   object \n",
            " 18  title                  3000 non-null   object \n",
            " 19  Keywords               2724 non-null   object \n",
            " 20  cast                   2987 non-null   object \n",
            " 21  crew                   2984 non-null   object \n",
            " 22  revenue                3000 non-null   int64  \n",
            "dtypes: float64(2), int64(3), object(18)\n",
            "memory usage: 539.2+ KB\n"
          ],
          "name": "stdout"
        }
      ]
    },
    {
      "cell_type": "code",
      "metadata": {
        "id": "NE9RPJOcSgSM",
        "colab": {
          "base_uri": "https://localhost:8080/",
          "height": 419
        },
        "outputId": "b55eced9-a078-42fa-b8c1-ce1c6cb488ba"
      },
      "source": [
        "# Find top 3 directors - (Here top 3 directors will be directors of those movies which generates highest profit)\n",
        "#Step1: Find those movies which generated highest profits\n",
        "#For this we need three columns - budget,original_title,crew,revenue\n",
        "column3=['budget','original_title','crew','revenue']\n",
        "df_imdb_dir=pd.DataFrame(df_imdb,columns=column3)\n",
        "df_imdb_dir\n",
        "\n"
      ],
      "execution_count": 234,
      "outputs": [
        {
          "output_type": "execute_result",
          "data": {
            "text/html": [
              "<div>\n",
              "<style scoped>\n",
              "    .dataframe tbody tr th:only-of-type {\n",
              "        vertical-align: middle;\n",
              "    }\n",
              "\n",
              "    .dataframe tbody tr th {\n",
              "        vertical-align: top;\n",
              "    }\n",
              "\n",
              "    .dataframe thead th {\n",
              "        text-align: right;\n",
              "    }\n",
              "</style>\n",
              "<table border=\"1\" class=\"dataframe\">\n",
              "  <thead>\n",
              "    <tr style=\"text-align: right;\">\n",
              "      <th></th>\n",
              "      <th>budget</th>\n",
              "      <th>original_title</th>\n",
              "      <th>crew</th>\n",
              "      <th>revenue</th>\n",
              "    </tr>\n",
              "  </thead>\n",
              "  <tbody>\n",
              "    <tr>\n",
              "      <th>0</th>\n",
              "      <td>14000000</td>\n",
              "      <td>Hot Tub Time Machine 2</td>\n",
              "      <td>[{'credit_id': '59ac067c92514107af02c8c8', 'de...</td>\n",
              "      <td>12314651</td>\n",
              "    </tr>\n",
              "    <tr>\n",
              "      <th>1</th>\n",
              "      <td>40000000</td>\n",
              "      <td>The Princess Diaries 2: Royal Engagement</td>\n",
              "      <td>[{'credit_id': '52fe43fe9251416c7502563d', 'de...</td>\n",
              "      <td>95149435</td>\n",
              "    </tr>\n",
              "    <tr>\n",
              "      <th>2</th>\n",
              "      <td>3300000</td>\n",
              "      <td>Whiplash</td>\n",
              "      <td>[{'credit_id': '54d5356ec3a3683ba0000039', 'de...</td>\n",
              "      <td>13092000</td>\n",
              "    </tr>\n",
              "    <tr>\n",
              "      <th>3</th>\n",
              "      <td>1200000</td>\n",
              "      <td>Kahaani</td>\n",
              "      <td>[{'credit_id': '52fe48779251416c9108d6eb', 'de...</td>\n",
              "      <td>16000000</td>\n",
              "    </tr>\n",
              "    <tr>\n",
              "      <th>4</th>\n",
              "      <td>0</td>\n",
              "      <td>마린보이</td>\n",
              "      <td>[{'credit_id': '52fe464b9251416c75073b43', 'de...</td>\n",
              "      <td>3923970</td>\n",
              "    </tr>\n",
              "    <tr>\n",
              "      <th>...</th>\n",
              "      <td>...</td>\n",
              "      <td>...</td>\n",
              "      <td>...</td>\n",
              "      <td>...</td>\n",
              "    </tr>\n",
              "    <tr>\n",
              "      <th>2995</th>\n",
              "      <td>0</td>\n",
              "      <td>Chasers</td>\n",
              "      <td>[{'credit_id': '52fe4494c3a368484e02ac7d', 'de...</td>\n",
              "      <td>1596687</td>\n",
              "    </tr>\n",
              "    <tr>\n",
              "      <th>2996</th>\n",
              "      <td>0</td>\n",
              "      <td>Vi är bäst!</td>\n",
              "      <td>[{'credit_id': '5716b72ac3a3686678012c84', 'de...</td>\n",
              "      <td>180590</td>\n",
              "    </tr>\n",
              "    <tr>\n",
              "      <th>2997</th>\n",
              "      <td>65000000</td>\n",
              "      <td>The Long Kiss Goodnight</td>\n",
              "      <td>[{'credit_id': '52fe443a9251416c7502d579', 'de...</td>\n",
              "      <td>89456761</td>\n",
              "    </tr>\n",
              "    <tr>\n",
              "      <th>2998</th>\n",
              "      <td>42000000</td>\n",
              "      <td>Along Came Polly</td>\n",
              "      <td>[{'credit_id': '556f817b9251410866000a63', 'de...</td>\n",
              "      <td>171963386</td>\n",
              "    </tr>\n",
              "    <tr>\n",
              "      <th>2999</th>\n",
              "      <td>35000000</td>\n",
              "      <td>Abduction</td>\n",
              "      <td>[{'credit_id': '5391990d0e0a260fb5001629', 'de...</td>\n",
              "      <td>82087155</td>\n",
              "    </tr>\n",
              "  </tbody>\n",
              "</table>\n",
              "<p>3000 rows × 4 columns</p>\n",
              "</div>"
            ],
            "text/plain": [
              "        budget  ...    revenue\n",
              "0     14000000  ...   12314651\n",
              "1     40000000  ...   95149435\n",
              "2      3300000  ...   13092000\n",
              "3      1200000  ...   16000000\n",
              "4            0  ...    3923970\n",
              "...        ...  ...        ...\n",
              "2995         0  ...    1596687\n",
              "2996         0  ...     180590\n",
              "2997  65000000  ...   89456761\n",
              "2998  42000000  ...  171963386\n",
              "2999  35000000  ...   82087155\n",
              "\n",
              "[3000 rows x 4 columns]"
            ]
          },
          "metadata": {
            "tags": []
          },
          "execution_count": 234
        }
      ]
    },
    {
      "cell_type": "code",
      "metadata": {
        "colab": {
          "base_uri": "https://localhost:8080/"
        },
        "id": "OA3v0gdeEKmn",
        "outputId": "b17bee9f-6732-4663-aea8-6a2b4e584667"
      },
      "source": [
        "#check for null values\n",
        "df_imdb_dir.isnull().sum()\n",
        "#from this we conculed that crew has some null values."
      ],
      "execution_count": 235,
      "outputs": [
        {
          "output_type": "execute_result",
          "data": {
            "text/plain": [
              "budget             0\n",
              "original_title     0\n",
              "crew              16\n",
              "revenue            0\n",
              "dtype: int64"
            ]
          },
          "metadata": {
            "tags": []
          },
          "execution_count": 235
        }
      ]
    },
    {
      "cell_type": "code",
      "metadata": {
        "colab": {
          "base_uri": "https://localhost:8080/",
          "height": 297
        },
        "id": "9rfL6JxMHn5o",
        "outputId": "bff577f5-2183-4117-a377-7eaf96d2fe16"
      },
      "source": [
        "#check outliners\n",
        "df_imdb_dir.describe()"
      ],
      "execution_count": 236,
      "outputs": [
        {
          "output_type": "execute_result",
          "data": {
            "text/html": [
              "<div>\n",
              "<style scoped>\n",
              "    .dataframe tbody tr th:only-of-type {\n",
              "        vertical-align: middle;\n",
              "    }\n",
              "\n",
              "    .dataframe tbody tr th {\n",
              "        vertical-align: top;\n",
              "    }\n",
              "\n",
              "    .dataframe thead th {\n",
              "        text-align: right;\n",
              "    }\n",
              "</style>\n",
              "<table border=\"1\" class=\"dataframe\">\n",
              "  <thead>\n",
              "    <tr style=\"text-align: right;\">\n",
              "      <th></th>\n",
              "      <th>budget</th>\n",
              "      <th>revenue</th>\n",
              "    </tr>\n",
              "  </thead>\n",
              "  <tbody>\n",
              "    <tr>\n",
              "      <th>count</th>\n",
              "      <td>3.000000e+03</td>\n",
              "      <td>3.000000e+03</td>\n",
              "    </tr>\n",
              "    <tr>\n",
              "      <th>mean</th>\n",
              "      <td>2.253133e+07</td>\n",
              "      <td>6.672585e+07</td>\n",
              "    </tr>\n",
              "    <tr>\n",
              "      <th>std</th>\n",
              "      <td>3.702609e+07</td>\n",
              "      <td>1.375323e+08</td>\n",
              "    </tr>\n",
              "    <tr>\n",
              "      <th>min</th>\n",
              "      <td>0.000000e+00</td>\n",
              "      <td>1.000000e+00</td>\n",
              "    </tr>\n",
              "    <tr>\n",
              "      <th>25%</th>\n",
              "      <td>0.000000e+00</td>\n",
              "      <td>2.379808e+06</td>\n",
              "    </tr>\n",
              "    <tr>\n",
              "      <th>50%</th>\n",
              "      <td>8.000000e+06</td>\n",
              "      <td>1.680707e+07</td>\n",
              "    </tr>\n",
              "    <tr>\n",
              "      <th>75%</th>\n",
              "      <td>2.900000e+07</td>\n",
              "      <td>6.891920e+07</td>\n",
              "    </tr>\n",
              "    <tr>\n",
              "      <th>max</th>\n",
              "      <td>3.800000e+08</td>\n",
              "      <td>1.519558e+09</td>\n",
              "    </tr>\n",
              "  </tbody>\n",
              "</table>\n",
              "</div>"
            ],
            "text/plain": [
              "             budget       revenue\n",
              "count  3.000000e+03  3.000000e+03\n",
              "mean   2.253133e+07  6.672585e+07\n",
              "std    3.702609e+07  1.375323e+08\n",
              "min    0.000000e+00  1.000000e+00\n",
              "25%    0.000000e+00  2.379808e+06\n",
              "50%    8.000000e+06  1.680707e+07\n",
              "75%    2.900000e+07  6.891920e+07\n",
              "max    3.800000e+08  1.519558e+09"
            ]
          },
          "metadata": {
            "tags": []
          },
          "execution_count": 236
        }
      ]
    },
    {
      "cell_type": "code",
      "metadata": {
        "colab": {
          "base_uri": "https://localhost:8080/"
        },
        "id": "0FDYxzpMIT6x",
        "outputId": "23f8a88f-3849-4be3-b574-7dc42ccad0d4"
      },
      "source": [
        "#check type of column crew\n",
        "print(type(df_imdb_dir.loc[0,'crew']))"
      ],
      "execution_count": 237,
      "outputs": [
        {
          "output_type": "stream",
          "text": [
            "<class 'str'>\n"
          ],
          "name": "stdout"
        }
      ]
    },
    {
      "cell_type": "code",
      "metadata": {
        "id": "12ZFjTuaE0LJ"
      },
      "source": [
        "#Function to calculate profit\n",
        "def profit(budget,revenue):\n",
        "  profit = revenue-budget\n",
        "  return profit"
      ],
      "execution_count": 238,
      "outputs": []
    },
    {
      "cell_type": "code",
      "metadata": {
        "colab": {
          "base_uri": "https://localhost:8080/",
          "height": 204
        },
        "id": "BATrbF9vEt2Q",
        "outputId": "5ec53e76-2a4a-4631-b87a-0bddae8bf626"
      },
      "source": [
        "#Calculate Profit\n",
        "df_imdb_dir['Profit']=df_imdb_dir.apply(lambda x : profit(x['budget'],x['revenue']),axis=1)\n",
        "df_imdb_dir.head(5)"
      ],
      "execution_count": 239,
      "outputs": [
        {
          "output_type": "execute_result",
          "data": {
            "text/html": [
              "<div>\n",
              "<style scoped>\n",
              "    .dataframe tbody tr th:only-of-type {\n",
              "        vertical-align: middle;\n",
              "    }\n",
              "\n",
              "    .dataframe tbody tr th {\n",
              "        vertical-align: top;\n",
              "    }\n",
              "\n",
              "    .dataframe thead th {\n",
              "        text-align: right;\n",
              "    }\n",
              "</style>\n",
              "<table border=\"1\" class=\"dataframe\">\n",
              "  <thead>\n",
              "    <tr style=\"text-align: right;\">\n",
              "      <th></th>\n",
              "      <th>budget</th>\n",
              "      <th>original_title</th>\n",
              "      <th>crew</th>\n",
              "      <th>revenue</th>\n",
              "      <th>Profit</th>\n",
              "    </tr>\n",
              "  </thead>\n",
              "  <tbody>\n",
              "    <tr>\n",
              "      <th>0</th>\n",
              "      <td>14000000</td>\n",
              "      <td>Hot Tub Time Machine 2</td>\n",
              "      <td>[{'credit_id': '59ac067c92514107af02c8c8', 'de...</td>\n",
              "      <td>12314651</td>\n",
              "      <td>-1685349</td>\n",
              "    </tr>\n",
              "    <tr>\n",
              "      <th>1</th>\n",
              "      <td>40000000</td>\n",
              "      <td>The Princess Diaries 2: Royal Engagement</td>\n",
              "      <td>[{'credit_id': '52fe43fe9251416c7502563d', 'de...</td>\n",
              "      <td>95149435</td>\n",
              "      <td>55149435</td>\n",
              "    </tr>\n",
              "    <tr>\n",
              "      <th>2</th>\n",
              "      <td>3300000</td>\n",
              "      <td>Whiplash</td>\n",
              "      <td>[{'credit_id': '54d5356ec3a3683ba0000039', 'de...</td>\n",
              "      <td>13092000</td>\n",
              "      <td>9792000</td>\n",
              "    </tr>\n",
              "    <tr>\n",
              "      <th>3</th>\n",
              "      <td>1200000</td>\n",
              "      <td>Kahaani</td>\n",
              "      <td>[{'credit_id': '52fe48779251416c9108d6eb', 'de...</td>\n",
              "      <td>16000000</td>\n",
              "      <td>14800000</td>\n",
              "    </tr>\n",
              "    <tr>\n",
              "      <th>4</th>\n",
              "      <td>0</td>\n",
              "      <td>마린보이</td>\n",
              "      <td>[{'credit_id': '52fe464b9251416c75073b43', 'de...</td>\n",
              "      <td>3923970</td>\n",
              "      <td>3923970</td>\n",
              "    </tr>\n",
              "  </tbody>\n",
              "</table>\n",
              "</div>"
            ],
            "text/plain": [
              "     budget                            original_title  ...   revenue    Profit\n",
              "0  14000000                    Hot Tub Time Machine 2  ...  12314651  -1685349\n",
              "1  40000000  The Princess Diaries 2: Royal Engagement  ...  95149435  55149435\n",
              "2   3300000                                  Whiplash  ...  13092000   9792000\n",
              "3   1200000                                   Kahaani  ...  16000000  14800000\n",
              "4         0                                      마린보이  ...   3923970   3923970\n",
              "\n",
              "[5 rows x 5 columns]"
            ]
          },
          "metadata": {
            "tags": []
          },
          "execution_count": 239
        }
      ]
    },
    {
      "cell_type": "code",
      "metadata": {
        "colab": {
          "base_uri": "https://localhost:8080/",
          "height": 204
        },
        "id": "xpGVWsdVFhyt",
        "outputId": "3aa940ee-7878-4fcd-f0bf-a0e946103d0f"
      },
      "source": [
        "#Take top 5 profitable movie only and form another dataframe\n",
        "df_top_dir=pd.DataFrame(df_imdb_dir.nlargest(5, ['Profit']))\n",
        "df_top_dir"
      ],
      "execution_count": 240,
      "outputs": [
        {
          "output_type": "execute_result",
          "data": {
            "text/html": [
              "<div>\n",
              "<style scoped>\n",
              "    .dataframe tbody tr th:only-of-type {\n",
              "        vertical-align: middle;\n",
              "    }\n",
              "\n",
              "    .dataframe tbody tr th {\n",
              "        vertical-align: top;\n",
              "    }\n",
              "\n",
              "    .dataframe thead th {\n",
              "        text-align: right;\n",
              "    }\n",
              "</style>\n",
              "<table border=\"1\" class=\"dataframe\">\n",
              "  <thead>\n",
              "    <tr style=\"text-align: right;\">\n",
              "      <th></th>\n",
              "      <th>budget</th>\n",
              "      <th>original_title</th>\n",
              "      <th>crew</th>\n",
              "      <th>revenue</th>\n",
              "      <th>Profit</th>\n",
              "    </tr>\n",
              "  </thead>\n",
              "  <tbody>\n",
              "    <tr>\n",
              "      <th>1761</th>\n",
              "      <td>190000000</td>\n",
              "      <td>Furious 7</td>\n",
              "      <td>[{'credit_id': '52fe4cc8c3a36847f823e681', 'de...</td>\n",
              "      <td>1506249360</td>\n",
              "      <td>1316249360</td>\n",
              "    </tr>\n",
              "    <tr>\n",
              "      <th>1126</th>\n",
              "      <td>220000000</td>\n",
              "      <td>The Avengers</td>\n",
              "      <td>[{'credit_id': '52fe4495c3a368484e02b1cf', 'de...</td>\n",
              "      <td>1519557910</td>\n",
              "      <td>1299557910</td>\n",
              "    </tr>\n",
              "    <tr>\n",
              "      <th>2770</th>\n",
              "      <td>280000000</td>\n",
              "      <td>Avengers: Age of Ultron</td>\n",
              "      <td>[{'credit_id': '55d5f7d4c3a3683e7e0016eb', 'de...</td>\n",
              "      <td>1405403694</td>\n",
              "      <td>1125403694</td>\n",
              "    </tr>\n",
              "    <tr>\n",
              "      <th>684</th>\n",
              "      <td>160000000</td>\n",
              "      <td>Beauty and the Beast</td>\n",
              "      <td>[{'credit_id': '551879bec3a3681f840004eb', 'de...</td>\n",
              "      <td>1262886337</td>\n",
              "      <td>1102886337</td>\n",
              "    </tr>\n",
              "    <tr>\n",
              "      <th>2322</th>\n",
              "      <td>195000000</td>\n",
              "      <td>Transformers: Dark of the Moon</td>\n",
              "      <td>[{'credit_id': '537f0b740e0a2624b40044d0', 'de...</td>\n",
              "      <td>1123746996</td>\n",
              "      <td>928746996</td>\n",
              "    </tr>\n",
              "  </tbody>\n",
              "</table>\n",
              "</div>"
            ],
            "text/plain": [
              "         budget                  original_title  ...     revenue      Profit\n",
              "1761  190000000                       Furious 7  ...  1506249360  1316249360\n",
              "1126  220000000                    The Avengers  ...  1519557910  1299557910\n",
              "2770  280000000         Avengers: Age of Ultron  ...  1405403694  1125403694\n",
              "684   160000000            Beauty and the Beast  ...  1262886337  1102886337\n",
              "2322  195000000  Transformers: Dark of the Moon  ...  1123746996   928746996\n",
              "\n",
              "[5 rows x 5 columns]"
            ]
          },
          "metadata": {
            "tags": []
          },
          "execution_count": 240
        }
      ]
    },
    {
      "cell_type": "code",
      "metadata": {
        "colab": {
          "base_uri": "https://localhost:8080/"
        },
        "id": "842tfLAkHaq5",
        "outputId": "0498493f-d1ad-4d6f-de77-b34a38451838"
      },
      "source": [
        "df_top_dir.info()"
      ],
      "execution_count": 241,
      "outputs": [
        {
          "output_type": "stream",
          "text": [
            "<class 'pandas.core.frame.DataFrame'>\n",
            "Int64Index: 5 entries, 1761 to 2322\n",
            "Data columns (total 5 columns):\n",
            " #   Column          Non-Null Count  Dtype \n",
            "---  ------          --------------  ----- \n",
            " 0   budget          5 non-null      int64 \n",
            " 1   original_title  5 non-null      object\n",
            " 2   crew            5 non-null      object\n",
            " 3   revenue         5 non-null      int64 \n",
            " 4   Profit          5 non-null      int64 \n",
            "dtypes: int64(3), object(2)\n",
            "memory usage: 240.0+ bytes\n"
          ],
          "name": "stdout"
        }
      ]
    },
    {
      "cell_type": "code",
      "metadata": {
        "id": "4j-XtzBUIpYb"
      },
      "source": [
        "#As Crew column has string,convert the string to list to fetch names of director\n",
        "#function to convert is already defined \n",
        "#apply function on this dataframe\n",
        "df_top_dir['crew']=df_top_dir['crew'].apply(convert)\n"
      ],
      "execution_count": 242,
      "outputs": []
    },
    {
      "cell_type": "code",
      "metadata": {
        "colab": {
          "base_uri": "https://localhost:8080/",
          "height": 137
        },
        "id": "XOvOh4qsKOfK",
        "outputId": "d1bced1c-f256-4e59-9a58-1646e6ac7125"
      },
      "source": [
        "df_imdb['crew'][0]"
      ],
      "execution_count": 243,
      "outputs": [
        {
          "output_type": "execute_result",
          "data": {
            "application/vnd.google.colaboratory.intrinsic+json": {
              "type": "string"
            },
            "text/plain": [
              "'[{\\'credit_id\\': \\'59ac067c92514107af02c8c8\\', \\'department\\': \\'Directing\\', \\'gender\\': 0, \\'id\\': 1449071, \\'job\\': \\'First Assistant Director\\', \\'name\\': \\'Kelly Cantley\\', \\'profile_path\\': None}, {\\'credit_id\\': \\'52fe4ee7c3a36847f82afad7\\', \\'department\\': \\'Directing\\', \\'gender\\': 2, \\'id\\': 3227, \\'job\\': \\'Director\\', \\'name\\': \\'Steve Pink\\', \\'profile_path\\': \\'/myHOgo8mQSCiCAZNGMRdHVr03jr.jpg\\'}, {\\'credit_id\\': \\'5524ed25c3a3687ded000d88\\', \\'department\\': \\'Writing\\', \\'gender\\': 2, \\'id\\': 347335, \\'job\\': \\'Writer\\', \\'name\\': \\'Josh Heald\\', \\'profile_path\\': \\'/pwXJIenrDMrG7t3zNfLvr8w1RGU.jpg\\'}, {\\'credit_id\\': \\'5524ed2d925141720c001128\\', \\'department\\': \\'Writing\\', \\'gender\\': 2, \\'id\\': 347335, \\'job\\': \\'Characters\\', \\'name\\': \\'Josh Heald\\', \\'profile_path\\': \\'/pwXJIenrDMrG7t3zNfLvr8w1RGU.jpg\\'}, {\\'credit_id\\': \\'5524ed3d92514166c1004a5d\\', \\'department\\': \\'Production\\', \\'gender\\': 2, \\'id\\': 57822, \\'job\\': \\'Producer\\', \\'name\\': \\'Andrew Panay\\', \\'profile_path\\': None}, {\\'credit_id\\': \\'5524ed4bc3a3687df3000dd2\\', \\'department\\': \\'Production\\', \\'gender\\': 0, \\'id\\': 1451395, \\'job\\': \\'Associate Producer\\', \\'name\\': \\'Adam Blum\\', \\'profile_path\\': None}, {\\'credit_id\\': \\'5524ed5a925141720c00112c\\', \\'department\\': \\'Production\\', \\'gender\\': 2, \\'id\\': 52997, \\'job\\': \\'Executive Producer\\', \\'name\\': \\'Rob Corddry\\', \\'profile_path\\': \\'/k2zJL0V1nEZuFT08xUdOd3ucfXz.jpg\\'}, {\\'credit_id\\': \\'5524ed85c3a3687e0e000f56\\', \\'department\\': \\'Production\\', \\'gender\\': 0, \\'id\\': 62807, \\'job\\': \\'Executive Producer\\', \\'name\\': \\'Ben Ormand\\', \\'profile_path\\': None}, {\\'credit_id\\': \\'5524ed9fc3a3687e0e000f59\\', \\'department\\': \\'Sound\\', \\'gender\\': 2, \\'id\\': 23486, \\'job\\': \\'Original Music Composer\\', \\'name\\': \\'Christophe Beck\\', \\'profile_path\\': \\'/2fnJUmCk6IEpVIptpYaUk31epHx.jpg\\'}, {\\'credit_id\\': \\'5524eda6c3a3687e03000d28\\', \\'department\\': \\'Camera\\', \\'gender\\': 2, \\'id\\': 6117, \\'job\\': \\'Director of Photography\\', \\'name\\': \\'Declan Quinn\\', \\'profile_path\\': None}, {\\'credit_id\\': \\'5524edb4925141720c00113d\\', \\'department\\': \\'Editing\\', \\'gender\\': 0, \\'id\\': 1451396, \\'job\\': \\'Editor\\', \\'name\\': \\'Jamie Gross\\', \\'profile_path\\': None}, {\\'credit_id\\': \\'5524edc1925141727600102e\\', \\'department\\': \\'Production\\', \\'gender\\': 0, \\'id\\': 22219, \\'job\\': \\'Casting\\', \\'name\\': \\'Susie Farris\\', \\'profile_path\\': None}, {\\'credit_id\\': \\'5524edd192514171cb008257\\', \\'department\\': \\'Art\\', \\'gender\\': 0, \\'id\\': 1002643, \\'job\\': \\'Production Design\\', \\'name\\': \\'Ryan Berg\\', \\'profile_path\\': None}, {\\'credit_id\\': \\'555ad9be9251411e5b00d485\\', \\'department\\': \\'Production\\', \\'gender\\': 2, \\'id\\': 57431, \\'job\\': \\'Executive Producer\\', \\'name\\': \\'Matt Moore\\', \\'profile_path\\': None}, {\\'credit_id\\': \\'5677e93bc3a36816890087dc\\', \\'department\\': \\'Directing\\', \\'gender\\': 0, \\'id\\': 1551818, \\'job\\': \\'Script Supervisor\\', \\'name\\': \\'Nicole Garcea\\', \\'profile_path\\': None}, {\\'credit_id\\': \\'5677e96a92514179e10093d0\\', \\'department\\': \\'Production\\', \\'gender\\': 0, \\'id\\': 1551819, \\'job\\': \\'Production Coordinator\\', \\'name\\': \\'Jason Salzman\\', \\'profile_path\\': None}, {\\'credit_id\\': \\'5677e98492514179d2008cd9\\', \\'department\\': \\'Costume & Make-Up\\', \\'gender\\': 0, \\'id\\': 1422996, \\'job\\': \\'Costume Design\\', \\'name\\': \\'Carol Cutshall\\', \\'profile_path\\': None}, {\\'credit_id\\': \\'5677e9d5c3a368168e009414\\', \\'department\\': \\'Art\\', \\'gender\\': 2, \\'id\\': 500199, \\'job\\': \\'Set Decoration\\', \\'name\\': \\'Tim Cohn\\', \\'profile_path\\': None}, {\\'credit_id\\': \\'5677f89d9251417845001a61\\', \\'department\\': \\'Costume & Make-Up\\', \\'gender\\': 0, \\'id\\': 1527917, \\'job\\': \\'Hair Department Head\\', \\'name\\': \\'Voni Hinkle\\', \\'profile_path\\': None}, {\\'credit_id\\': \\'5677f8b392514179dd0089fb\\', \\'department\\': \\'Costume & Make-Up\\', \\'gender\\': 0, \\'id\\': 1431554, \\'job\\': \\'Makeup Department Head\\', \\'name\\': \\'Remi Savva\\', \\'profile_path\\': None}, {\\'credit_id\\': \\'5677f8d1c3a3681689008a4b\\', \\'department\\': \\'Art\\', \\'gender\\': 0, \\'id\\': 66495, \\'job\\': \\'Art Direction\\', \\'name\\': \\'Jason Baldwin Stewart\\', \\'profile_path\\': None}, {\\'credit_id\\': \\'5677f8eec3a3681685008dd5\\', \\'department\\': \\'Production\\', \\'gender\\': 0, \\'id\\': 1412466, \\'job\\': \\'Production Supervisor\\', \\'name\\': \\'Korey Budd\\', \\'profile_path\\': None}, {\\'credit_id\\': \\'5677f90a9251417845001a7d\\', \\'department\\': \\'Sound\\', \\'gender\\': 0, \\'id\\': 1401562, \\'job\\': \\'Sound Re-Recording Mixer\\', \\'name\\': \\'Gary C. Bourgeois\\', \\'profile_path\\': None}, {\\'credit_id\\': \\'5677f91e9251417845001a84\\', \\'department\\': \\'Sound\\', \\'gender\\': 0, \\'id\\': 1396794, \\'job\\': \\'Sound Re-Recording Mixer\\', \\'name\\': \\'Gabriel J. Serrano\\', \\'profile_path\\': None}, {\\'credit_id\\': \\'5677f938c3a3681680008dd4\\', \\'department\\': \\'Editing\\', \\'gender\\': 0, \\'id\\': 13168, \\'job\\': \\'Dialogue Editor\\', \\'name\\': \\'Victoria Rose Sampson\\', \\'profile_path\\': None}, {\\'credit_id\\': \\'5677f94e92514179dd008a1f\\', \\'department\\': \\'Sound\\', \\'gender\\': 0, \\'id\\': 1551839, \\'job\\': \\'Production Sound Mixer\\', \\'name\\': \\'Michael B. Koff\\', \\'profile_path\\': None}, {\\'credit_id\\': \\'5677f968c3a368168e009698\\', \\'department\\': \\'Sound\\', \\'gender\\': 0, \\'id\\': 113052, \\'job\\': \\'Sound Effects Editor\\', \\'name\\': \\'Randall Guth\\', \\'profile_path\\': None}, {\\'credit_id\\': \\'5677f98dc3a3681685008e02\\', \\'department\\': \\'Crew\\', \\'gender\\': 2, \\'id\\': 1442535, \\'job\\': \\'Stunt Coordinator\\', \\'name\\': \\'Chuck Picerni Jr.\\', \\'profile_path\\': \\'/yE5QtXUzcrnCzMRctZL8F5g842B.jpg\\'}, {\\'credit_id\\': \\'5677f9a692514179dd008a49\\', \\'department\\': \\'Camera\\', \\'gender\\': 0, \\'id\\': 1437305, \\'job\\': \\'Camera Operator\\', \\'name\\': \\'Michael Applebaum\\', \\'profile_path\\': None}, {\\'credit_id\\': \\'5677f9bd9251417845001aae\\', \\'department\\': \\'Camera\\', \\'gender\\': 0, \\'id\\': 1401765, \\'job\\': \\'Still Photographer\\', \\'name\\': \\'Steve Dietl\\', \\'profile_path\\': None}, {\\'credit_id\\': \\'5677f9e592514179e7008bf7\\', \\'department\\': \\'Lighting\\', \\'gender\\': 0, \\'id\\': 1402721, \\'job\\': \\'Rigging Gaffer\\', \\'name\\': \\'Tarik Naim Alherimi\\', \\'profile_path\\': None}, {\\'credit_id\\': \\'5677f9f4c3a368167c0090ed\\', \\'department\\': \\'Lighting\\', \\'gender\\': 0, \\'id\\': 1402719, \\'job\\': \\'Gaffer\\', \\'name\\': \\'Paul Olinde\\', \\'profile_path\\': None}, {\\'credit_id\\': \\'5677fa21c3a368168e0096ca\\', \\'department\\': \\'Sound\\', \\'gender\\': 0, \\'id\\': 1551840, \\'job\\': \\'Music Supervisor\\', \\'name\\': \\'Steve Griffen\\', \\'profile_path\\': None}, {\\'credit_id\\': \\'5677fa31c3a3681680008e04\\', \\'department\\': \\'Sound\\', \\'gender\\': 0, \\'id\\': 1551841, \\'job\\': \\'Music Editor\\', \\'name\\': \\'Matt Fausak\\', \\'profile_path\\': None}, {\\'credit_id\\': \\'5677fa4392514179dd008a76\\', \\'department\\': \\'Sound\\', \\'gender\\': 0, \\'id\\': 1551840, \\'job\\': \\'Music Editor\\', \\'name\\': \\'Steve Griffen\\', \\'profile_path\\': None}, {\\'credit_id\\': \\'5677fa609251417845001acf\\', \\'department\\': \\'Costume & Make-Up\\', \\'gender\\': 0, \\'id\\': 1403416, \\'job\\': \\'Costume Supervisor\\', \\'name\\': \\'Shonta T. McCray\\', \\'profile_path\\': None}, {\\'credit_id\\': \\'5677fa8492514179d2008fb3\\', \\'department\\': \\'Camera\\', \\'gender\\': 0, \\'id\\': 1425831, \\'job\\': \\'Steadicam Operator\\', \\'name\\': \\'Mark Karavite\\', \\'profile_path\\': None}, {\\'credit_id\\': \\'5677fab2c3a3681689008ac3\\', \\'department\\': \\'Camera\\', \\'gender\\': 0, \\'id\\': 1551842, \\'job\\': \\'First Assistant Camera\\', \\'name\\': \\'Joe Waistell\\', \\'profile_path\\': None}, {\\'credit_id\\': \\'5677faecc3a368168e0096fe\\', \\'department\\': \\'Sound\\', \\'gender\\': 0, \\'id\\': 58362, \\'job\\': \\'Supervising Sound Editor\\', \\'name\\': \\'Michael Hilkene\\', \\'profile_path\\': None}, {\\'credit_id\\': \\'59ac0368c3a3682c0a02c484\\', \\'department\\': \\'Crew\\', \\'gender\\': 0, \\'id\\': 1881584, \\'job\\': \\'Additional Writing\\', \\'name\\': \\'John Karnay\\', \\'profile_path\\': None}, {\\'credit_id\\': \\'59ac0411c3a3682bf0028966\\', \\'department\\': \\'Costume & Make-Up\\', \\'gender\\': 0, \\'id\\': 1431552, \\'job\\': \\'Hairstylist\\', \\'name\\': \\'Daina Daigle\\', \\'profile_path\\': None}, {\\'credit_id\\': \\'59ac0504925141072302b8fb\\', \\'department\\': \\'Costume & Make-Up\\', \\'gender\\': 0, \\'id\\': 1712001, \\'job\\': \\'Makeup Artist\\', \\'name\\': \\'Allison Gordin\\', \\'profile_path\\': None}, {\\'credit_id\\': \\'59ac0570c3a3682bf0028aac\\', \\'department\\': \\'Costume & Make-Up\\', \\'gender\\': 0, \\'id\\': 578725, \\'job\\': \\'Makeup Artist\\', \\'name\\': \\'Darryl Lucas\\', \\'profile_path\\': None}, {\\'credit_id\\': \\'59ac05a4925141077e02c97e\\', \\'department\\': \\'Costume & Make-Up\\', \\'gender\\': 0, \\'id\\': 1463274, \\'job\\': \\'Makeup Artist\\', \\'name\\': \\'Annabelle MacNeal\\', \\'profile_path\\': None}, {\\'credit_id\\': \\'59ac05c6925141076502d106\\', \\'department\\': \\'Costume & Make-Up\\', \\'gender\\': 0, \\'id\\': 1881586, \\'job\\': \\'Makeup Artist\\', \\'name\\': \\'Marina Savva\\', \\'profile_path\\': None}, {\\'credit_id\\': \\'59ac0615c3a3682c480296aa\\', \\'department\\': \\'Costume & Make-Up\\', \\'gender\\': 0, \\'id\\': 1406267, \\'job\\': \\'Hairstylist\\', \\'name\\': \\'Carl G. Variste\\', \\'profile_path\\': None}, {\\'credit_id\\': \\'59ac06ba925141076502d1fa\\', \\'department\\': \\'Directing\\', \\'gender\\': 0, \\'id\\': 1798593, \\'job\\': \\'First Assistant Director\\', \\'name\\': \\'Josh King\\', \\'profile_path\\': None}, {\\'credit_id\\': \\'59ac06f1c3a3682c2202aca0\\', \\'department\\': \\'Art\\', \\'gender\\': 0, \\'id\\': 1415083, \\'job\\': \\'Greensman\\', \\'name\\': \\'Scott C. Bivona\\', \\'profile_path\\': None}, {\\'credit_id\\': \\'59ac072c925141076502d260\\', \\'department\\': \\'Art\\', \\'gender\\': 0, \\'id\\': 1881587, \\'job\\': \\'Title Designer\\', \\'name\\': \\'Eunha Choi\\', \\'profile_path\\': None}, {\\'credit_id\\': \\'59ac077c925141077e02cb62\\', \\'department\\': \\'Art\\', \\'gender\\': 0, \\'id\\': 1585302, \\'job\\': \\'Construction Coordinator\\', \\'name\\': \\'Daniel Coe\\', \\'profile_path\\': None}, {\\'credit_id\\': \\'59ac07e0925141078a02d842\\', \\'department\\': \\'Art\\', \\'gender\\': 0, \\'id\\': 1495523, \\'job\\': \\'Set Designer\\', \\'name\\': \\'Spencer Davison\\', \\'profile_path\\': None}, {\\'credit_id\\': \\'59ac0862925141072f02cf6f\\', \\'department\\': \\'Art\\', \\'gender\\': 0, \\'id\\': 1881589, \\'job\\': \\'Painter\\', \\'name\\': \\'Sonia L. Garcia\\', \\'profile_path\\': None}, {\\'credit_id\\': \\'59ac08e0c3a3682bf0028e51\\', \\'department\\': \\'Art\\', \\'gender\\': 0, \\'id\\': 1424896, \\'job\\': \\'Art Department Coordinator\\', \\'name\\': \\'Caleb Guillotte\\', \\'profile_path\\': None}, {\\'credit_id\\': \\'59ac0920c3a3682c2202af36\\', \\'department\\': \\'Art\\', \\'gender\\': 0, \\'id\\': 1393375, \\'job\\': \\'Leadman\\', \\'name\\': \"Pat A. O\\'Connor\", \\'profile_path\\': None}, {\\'credit_id\\': \\'59ac095592514107af02cc39\\', \\'department\\': \\'Art\\', \\'gender\\': 0, \\'id\\': 1881592, \\'job\\': \\'Set Designer\\', \\'name\\': \\'Brendan Turrill\\', \\'profile_path\\': None}, {\\'credit_id\\': \\'59ac0989925141072302bdfa\\', \\'department\\': \\'Art\\', \\'gender\\': 2, \\'id\\': 76497, \\'job\\': \\'Property Master\\', \\'name\\': \\'Brook Yeaton\\', \\'profile_path\\': None}, {\\'credit_id\\': \\'59ac0a2cc3a3682c9c02add1\\', \\'department\\': \\'Sound\\', \\'gender\\': 0, \\'id\\': 1881596, \\'job\\': \\'Boom Operator\\', \\'name\\': \\'Matthew Armstrong\\', \\'profile_path\\': None}, {\\'credit_id\\': \\'59ac0aa8925141072f02d282\\', \\'department\\': \\'Visual Effects\\', \\'gender\\': 2, \\'id\\': 1558086, \\'job\\': \\'Special Effects Supervisor\\', \\'name\\': \\'Matt Kutcher\\', \\'profile_path\\': None}, {\\'credit_id\\': \\'59ac0b2ac3a3682c2202b192\\', \\'department\\': \\'Crew\\', \\'gender\\': 2, \\'id\\': 1558087, \\'job\\': \\'Special Effects Coordinator\\', \\'name\\': \\'Eric Roberts\\', \\'profile_path\\': None}, {\\'credit_id\\': \\'59ac0b7ac3a3682c2202b1fb\\', \\'department\\': \\'Visual Effects\\', \\'gender\\': 0, \\'id\\': 1392098, \\'job\\': \\'Visual Effects Supervisor\\', \\'name\\': \\'Rocco Passionino\\', \\'profile_path\\': None}, {\\'credit_id\\': \\'59ac0bbe925141077e02d0c4\\', \\'department\\': \\'Visual Effects\\', \\'gender\\': 0, \\'id\\': 1558716, \\'job\\': \\'Visual Effects Coordinator\\', \\'name\\': \\'Joseph Payo\\', \\'profile_path\\': None}, {\\'credit_id\\': \\'59ac0bf2c3a3682cc802cefa\\', \\'department\\': \\'Visual Effects\\', \\'gender\\': 0, \\'id\\': 1408784, \\'job\\': \\'Visual Effects Producer\\', \\'name\\': \\'Chris Roff\\', \\'profile_path\\': None}, {\\'credit_id\\': \\'59ac0c51c3a3682c48029d99\\', \\'department\\': \\'Lighting\\', \\'gender\\': 0, \\'id\\': 1881600, \\'job\\': \\'Best Boy Electric\\', \\'name\\': \\'Ulyan Atamanyuk\\', \\'profile_path\\': None}, {\\'credit_id\\': \\'59ac0cbac3a3682c0a02cff6\\', \\'department\\': \\'Camera\\', \\'gender\\': 0, \\'id\\': 1881602, \\'job\\': \\'Key Grip\\', \\'name\\': \\'Chris Ekstrom\\', \\'profile_path\\': None}, {\\'credit_id\\': \\'59ac0d54925141072f02d5e6\\', \\'department\\': \\'Lighting\\', \\'gender\\': 0, \\'id\\': 1484984, \\'job\\': \\'Best Boy Electric\\', \\'name\\': \\'Brad Garris\\', \\'profile_path\\': None}, {\\'credit_id\\': \\'59ac0db0925141078a02df86\\', \\'department\\': \\'Camera\\', \\'gender\\': 0, \\'id\\': 1881603, \\'job\\': \\'Dolly Grip\\', \\'name\\': \\'Kendell Joseph\\', \\'profile_path\\': None}, {\\'credit_id\\': \\'59ac0e5a925141077e02d39f\\', \\'department\\': \\'Camera\\', \\'gender\\': 0, \\'id\\': 1549179, \\'job\\': \\'Dolly Grip\\', \\'name\\': \\'Spencer Wilcox\\', \\'profile_path\\': None}, {\\'credit_id\\': \\'59ac0e9f925141079d02bee6\\', \\'department\\': \\'Costume & Make-Up\\', \\'gender\\': 0, \\'id\\': 1552626, \\'job\\': \\'Key Costumer\\', \\'name\\': \\'Sarah P. Koeppe\\', \\'profile_path\\': None}, {\\'credit_id\\': \\'59ac0ec1c3a3682bf0029524\\', \\'department\\': \\'Costume & Make-Up\\', \\'gender\\': 0, \\'id\\': 1881605, \\'job\\': \\'Seamstress\\', \\'name\\': \\'Catherine Rodi\\', \\'profile_path\\': None}, {\\'credit_id\\': \\'59ac0eef925141070702c7ff\\', \\'department\\': \\'Costume & Make-Up\\', \\'gender\\': 0, \\'id\\': 1463801, \\'job\\': \\'Seamstress\\', \\'name\\': \\'Giselle Spence\\', \\'profile_path\\': None}, {\\'credit_id\\': \\'59ac0f5dc3a3682c4802a0f5\\', \\'department\\': \\'Production\\', \\'gender\\': 0, \\'id\\': 1400837, \\'job\\': \\'Location Manager\\', \\'name\\': \\'John A. Johnston\\', \\'profile_path\\': None}, {\\'credit_id\\': \\'59ac0ff2c3a3682c4802a196\\', \\'department\\': \\'Crew\\', \\'gender\\': 0, \\'id\\': 1844322, \\'job\\': \\'Production Controller\\', \\'name\\': \\'Gail Marks\\', \\'profile_path\\': None}]'"
            ]
          },
          "metadata": {
            "tags": []
          },
          "execution_count": 243
        }
      ]
    },
    {
      "cell_type": "code",
      "metadata": {
        "colab": {
          "base_uri": "https://localhost:8080/"
        },
        "id": "wMveyLReJlVf",
        "outputId": "3f341894-6ea6-4fb3-9730-111b115ae992"
      },
      "source": [
        "df_top_dir['crew']"
      ],
      "execution_count": 244,
      "outputs": [
        {
          "output_type": "execute_result",
          "data": {
            "text/plain": [
              "1761    [{'credit_id': '52fe4cc8c3a36847f823e681', 'de...\n",
              "1126    [{'credit_id': '52fe4495c3a368484e02b1cf', 'de...\n",
              "2770    [{'credit_id': '55d5f7d4c3a3683e7e0016eb', 'de...\n",
              "684     [{'credit_id': '551879bec3a3681f840004eb', 'de...\n",
              "2322    [{'credit_id': '537f0b740e0a2624b40044d0', 'de...\n",
              "Name: crew, dtype: object"
            ]
          },
          "metadata": {
            "tags": []
          },
          "execution_count": 244
        }
      ]
    },
    {
      "cell_type": "code",
      "metadata": {
        "id": "eOo8wEazJyps"
      },
      "source": [
        "#function to fetch names of director from the list\n",
        "def director(crew):\n",
        "  dir=[]\n",
        "  for elem in crew:\n",
        "    if elem['job'] == 'Director':\n",
        "      dir.append(elem['name'])\n",
        "  \n",
        "  return dir"
      ],
      "execution_count": 245,
      "outputs": []
    },
    {
      "cell_type": "code",
      "metadata": {
        "id": "wwXBpb2TKlXy"
      },
      "source": [
        "#create new column having names of directors \n",
        "df_top_dir['Directors']=df_top_dir.apply(lambda x:director(x['crew']),axis=1)\n"
      ],
      "execution_count": 246,
      "outputs": []
    },
    {
      "cell_type": "code",
      "metadata": {
        "colab": {
          "base_uri": "https://localhost:8080/",
          "height": 204
        },
        "id": "k_0HvK0VK-yd",
        "outputId": "6df50490-be6d-43af-c77e-06996a8e735b"
      },
      "source": [
        "df_top_dir"
      ],
      "execution_count": 247,
      "outputs": [
        {
          "output_type": "execute_result",
          "data": {
            "text/html": [
              "<div>\n",
              "<style scoped>\n",
              "    .dataframe tbody tr th:only-of-type {\n",
              "        vertical-align: middle;\n",
              "    }\n",
              "\n",
              "    .dataframe tbody tr th {\n",
              "        vertical-align: top;\n",
              "    }\n",
              "\n",
              "    .dataframe thead th {\n",
              "        text-align: right;\n",
              "    }\n",
              "</style>\n",
              "<table border=\"1\" class=\"dataframe\">\n",
              "  <thead>\n",
              "    <tr style=\"text-align: right;\">\n",
              "      <th></th>\n",
              "      <th>budget</th>\n",
              "      <th>original_title</th>\n",
              "      <th>crew</th>\n",
              "      <th>revenue</th>\n",
              "      <th>Profit</th>\n",
              "      <th>Directors</th>\n",
              "    </tr>\n",
              "  </thead>\n",
              "  <tbody>\n",
              "    <tr>\n",
              "      <th>1761</th>\n",
              "      <td>190000000</td>\n",
              "      <td>Furious 7</td>\n",
              "      <td>[{'credit_id': '52fe4cc8c3a36847f823e681', 'de...</td>\n",
              "      <td>1506249360</td>\n",
              "      <td>1316249360</td>\n",
              "      <td>[James Wan]</td>\n",
              "    </tr>\n",
              "    <tr>\n",
              "      <th>1126</th>\n",
              "      <td>220000000</td>\n",
              "      <td>The Avengers</td>\n",
              "      <td>[{'credit_id': '52fe4495c3a368484e02b1cf', 'de...</td>\n",
              "      <td>1519557910</td>\n",
              "      <td>1299557910</td>\n",
              "      <td>[Joss Whedon]</td>\n",
              "    </tr>\n",
              "    <tr>\n",
              "      <th>2770</th>\n",
              "      <td>280000000</td>\n",
              "      <td>Avengers: Age of Ultron</td>\n",
              "      <td>[{'credit_id': '55d5f7d4c3a3683e7e0016eb', 'de...</td>\n",
              "      <td>1405403694</td>\n",
              "      <td>1125403694</td>\n",
              "      <td>[Joss Whedon]</td>\n",
              "    </tr>\n",
              "    <tr>\n",
              "      <th>684</th>\n",
              "      <td>160000000</td>\n",
              "      <td>Beauty and the Beast</td>\n",
              "      <td>[{'credit_id': '551879bec3a3681f840004eb', 'de...</td>\n",
              "      <td>1262886337</td>\n",
              "      <td>1102886337</td>\n",
              "      <td>[Bill Condon]</td>\n",
              "    </tr>\n",
              "    <tr>\n",
              "      <th>2322</th>\n",
              "      <td>195000000</td>\n",
              "      <td>Transformers: Dark of the Moon</td>\n",
              "      <td>[{'credit_id': '537f0b740e0a2624b40044d0', 'de...</td>\n",
              "      <td>1123746996</td>\n",
              "      <td>928746996</td>\n",
              "      <td>[Michael Bay]</td>\n",
              "    </tr>\n",
              "  </tbody>\n",
              "</table>\n",
              "</div>"
            ],
            "text/plain": [
              "         budget                  original_title  ...      Profit      Directors\n",
              "1761  190000000                       Furious 7  ...  1316249360    [James Wan]\n",
              "1126  220000000                    The Avengers  ...  1299557910  [Joss Whedon]\n",
              "2770  280000000         Avengers: Age of Ultron  ...  1125403694  [Joss Whedon]\n",
              "684   160000000            Beauty and the Beast  ...  1102886337  [Bill Condon]\n",
              "2322  195000000  Transformers: Dark of the Moon  ...   928746996  [Michael Bay]\n",
              "\n",
              "[5 rows x 6 columns]"
            ]
          },
          "metadata": {
            "tags": []
          },
          "execution_count": 247
        }
      ]
    },
    {
      "cell_type": "markdown",
      "metadata": {
        "id": "tY0RCBqULRs6"
      },
      "source": [
        "Here Top 3 unique directors are '**James Wan**','**Joss Whedon**','**Bill condon**'"
      ]
    },
    {
      "cell_type": "code",
      "metadata": {
        "colab": {
          "base_uri": "https://localhost:8080/",
          "height": 142
        },
        "id": "YHxz4L8nL0i3",
        "outputId": "117600f0-64b2-43d4-f5ee-fb934c146fb3"
      },
      "source": [
        "#Now for these directors  we can fetch number of movies they worked in and the cast of the movies\n",
        "column4=['original_title','crew']\n",
        "df_dir_crew=pd.DataFrame(df_imdb,columns=column4)\n",
        "df_dir_crew.head(3)"
      ],
      "execution_count": 248,
      "outputs": [
        {
          "output_type": "execute_result",
          "data": {
            "text/html": [
              "<div>\n",
              "<style scoped>\n",
              "    .dataframe tbody tr th:only-of-type {\n",
              "        vertical-align: middle;\n",
              "    }\n",
              "\n",
              "    .dataframe tbody tr th {\n",
              "        vertical-align: top;\n",
              "    }\n",
              "\n",
              "    .dataframe thead th {\n",
              "        text-align: right;\n",
              "    }\n",
              "</style>\n",
              "<table border=\"1\" class=\"dataframe\">\n",
              "  <thead>\n",
              "    <tr style=\"text-align: right;\">\n",
              "      <th></th>\n",
              "      <th>original_title</th>\n",
              "      <th>crew</th>\n",
              "    </tr>\n",
              "  </thead>\n",
              "  <tbody>\n",
              "    <tr>\n",
              "      <th>0</th>\n",
              "      <td>Hot Tub Time Machine 2</td>\n",
              "      <td>[{'credit_id': '59ac067c92514107af02c8c8', 'de...</td>\n",
              "    </tr>\n",
              "    <tr>\n",
              "      <th>1</th>\n",
              "      <td>The Princess Diaries 2: Royal Engagement</td>\n",
              "      <td>[{'credit_id': '52fe43fe9251416c7502563d', 'de...</td>\n",
              "    </tr>\n",
              "    <tr>\n",
              "      <th>2</th>\n",
              "      <td>Whiplash</td>\n",
              "      <td>[{'credit_id': '54d5356ec3a3683ba0000039', 'de...</td>\n",
              "    </tr>\n",
              "  </tbody>\n",
              "</table>\n",
              "</div>"
            ],
            "text/plain": [
              "                             original_title                                               crew\n",
              "0                    Hot Tub Time Machine 2  [{'credit_id': '59ac067c92514107af02c8c8', 'de...\n",
              "1  The Princess Diaries 2: Royal Engagement  [{'credit_id': '52fe43fe9251416c7502563d', 'de...\n",
              "2                                  Whiplash  [{'credit_id': '54d5356ec3a3683ba0000039', 'de..."
            ]
          },
          "metadata": {
            "tags": []
          },
          "execution_count": 248
        }
      ]
    },
    {
      "cell_type": "code",
      "metadata": {
        "colab": {
          "base_uri": "https://localhost:8080/"
        },
        "id": "8W940zp8N9qI",
        "outputId": "7e808707-b6fe-4d71-d7fe-bd313c930492"
      },
      "source": [
        "type(df_dir_crew.loc[0,'crew'])"
      ],
      "execution_count": 249,
      "outputs": [
        {
          "output_type": "execute_result",
          "data": {
            "text/plain": [
              "str"
            ]
          },
          "metadata": {
            "tags": []
          },
          "execution_count": 249
        }
      ]
    },
    {
      "cell_type": "code",
      "metadata": {
        "id": "U7ng_snfULbJ"
      },
      "source": [
        "df_dir_crew.dropna(inplace=True)\n",
        "#before converse of string to list we have to replcae null values"
      ],
      "execution_count": 250,
      "outputs": []
    },
    {
      "cell_type": "code",
      "metadata": {
        "id": "j6-4SAACTmI_"
      },
      "source": [
        "df_dir_crew.loc[:,'crew']=df_dir_crew.loc[:,'crew'].apply(convert)"
      ],
      "execution_count": 251,
      "outputs": []
    },
    {
      "cell_type": "code",
      "metadata": {
        "id": "D7rL9aDRODc3"
      },
      "source": [
        "#function to fetch only name of directors is already defined and now we can use the same function here\n",
        "df_dir_crew['Directors']=df_dir_crew.apply(lambda x : director(x['crew']),axis=1)\n"
      ],
      "execution_count": 252,
      "outputs": []
    },
    {
      "cell_type": "code",
      "metadata": {
        "colab": {
          "base_uri": "https://localhost:8080/",
          "height": 204
        },
        "id": "fLdjDNnpUar7",
        "outputId": "28967ae0-eebf-4223-e67f-e8eff0afeb47"
      },
      "source": [
        "df_dir_crew.head(5)"
      ],
      "execution_count": 253,
      "outputs": [
        {
          "output_type": "execute_result",
          "data": {
            "text/html": [
              "<div>\n",
              "<style scoped>\n",
              "    .dataframe tbody tr th:only-of-type {\n",
              "        vertical-align: middle;\n",
              "    }\n",
              "\n",
              "    .dataframe tbody tr th {\n",
              "        vertical-align: top;\n",
              "    }\n",
              "\n",
              "    .dataframe thead th {\n",
              "        text-align: right;\n",
              "    }\n",
              "</style>\n",
              "<table border=\"1\" class=\"dataframe\">\n",
              "  <thead>\n",
              "    <tr style=\"text-align: right;\">\n",
              "      <th></th>\n",
              "      <th>original_title</th>\n",
              "      <th>crew</th>\n",
              "      <th>Directors</th>\n",
              "    </tr>\n",
              "  </thead>\n",
              "  <tbody>\n",
              "    <tr>\n",
              "      <th>0</th>\n",
              "      <td>Hot Tub Time Machine 2</td>\n",
              "      <td>[{'credit_id': '59ac067c92514107af02c8c8', 'de...</td>\n",
              "      <td>[Steve Pink]</td>\n",
              "    </tr>\n",
              "    <tr>\n",
              "      <th>1</th>\n",
              "      <td>The Princess Diaries 2: Royal Engagement</td>\n",
              "      <td>[{'credit_id': '52fe43fe9251416c7502563d', 'de...</td>\n",
              "      <td>[Garry Marshall]</td>\n",
              "    </tr>\n",
              "    <tr>\n",
              "      <th>2</th>\n",
              "      <td>Whiplash</td>\n",
              "      <td>[{'credit_id': '54d5356ec3a3683ba0000039', 'de...</td>\n",
              "      <td>[Damien Chazelle]</td>\n",
              "    </tr>\n",
              "    <tr>\n",
              "      <th>3</th>\n",
              "      <td>Kahaani</td>\n",
              "      <td>[{'credit_id': '52fe48779251416c9108d6eb', 'de...</td>\n",
              "      <td>[Sujoy Ghosh]</td>\n",
              "    </tr>\n",
              "    <tr>\n",
              "      <th>4</th>\n",
              "      <td>마린보이</td>\n",
              "      <td>[{'credit_id': '52fe464b9251416c75073b43', 'de...</td>\n",
              "      <td>[Jong-seok Yoon]</td>\n",
              "    </tr>\n",
              "  </tbody>\n",
              "</table>\n",
              "</div>"
            ],
            "text/plain": [
              "                             original_title  ...          Directors\n",
              "0                    Hot Tub Time Machine 2  ...       [Steve Pink]\n",
              "1  The Princess Diaries 2: Royal Engagement  ...   [Garry Marshall]\n",
              "2                                  Whiplash  ...  [Damien Chazelle]\n",
              "3                                   Kahaani  ...      [Sujoy Ghosh]\n",
              "4                                      마린보이  ...   [Jong-seok Yoon]\n",
              "\n",
              "[5 rows x 3 columns]"
            ]
          },
          "metadata": {
            "tags": []
          },
          "execution_count": 253
        }
      ]
    },
    {
      "cell_type": "code",
      "metadata": {
        "id": "LvHRPXtjUnX4"
      },
      "source": [
        "df_dir_crew_count=df_dir_crew.explode('Directors')"
      ],
      "execution_count": 254,
      "outputs": []
    },
    {
      "cell_type": "code",
      "metadata": {
        "colab": {
          "base_uri": "https://localhost:8080/"
        },
        "id": "F9W4lmSHU6S9",
        "outputId": "2e5c8720-be41-4777-e9f5-e6c82b86ecb8"
      },
      "source": [
        "df_dir_crew_count['Directors'].value_counts()"
      ],
      "execution_count": 255,
      "outputs": [
        {
          "output_type": "execute_result",
          "data": {
            "text/plain": [
              "Clint Eastwood      11\n",
              "Ron Howard          11\n",
              "Steven Spielberg    10\n",
              "Blake Edwards        9\n",
              "Woody Allen          9\n",
              "                    ..\n",
              "Fons Rademakers      1\n",
              "Paul Currie          1\n",
              "Antony Hoffman       1\n",
              "Jo√£o Jardim         1\n",
              "Steven Brill         1\n",
              "Name: Directors, Length: 2043, dtype: int64"
            ]
          },
          "metadata": {
            "tags": []
          },
          "execution_count": 255
        }
      ]
    },
    {
      "cell_type": "markdown",
      "metadata": {
        "id": "GZTmFY_eVssj"
      },
      "source": [
        "'James Wan','Joss Whedon','Bill condon' - these are top 3 profitable movie director"
      ]
    },
    {
      "cell_type": "markdown",
      "metadata": {
        "id": "FcHjvO0PVXwF"
      },
      "source": [
        "From this data we conculed that top 3 directors who made most number of movies are Ron Howard , Clint Eastwood , Steven Spielberg"
      ]
    },
    {
      "cell_type": "markdown",
      "metadata": {
        "id": "MXh2N2lvWDN5"
      },
      "source": [
        "from here we can say that there are difference in directors\n"
      ]
    },
    {
      "cell_type": "markdown",
      "metadata": {
        "id": "17AlwYseW4cX"
      },
      "source": [
        "So here I can find which actors all 6 directors prefer and what movie they directed"
      ]
    },
    {
      "cell_type": "code",
      "metadata": {
        "id": "UPwfYyPbXt4Z"
      },
      "source": [
        "#concat or merge two dataframe having orginal_title,cast,actors_list,crew and director_list\n",
        "#df_movies            ---->having original_title,cast and actors_list\n",
        "#df_dir_crew          ---->having original_title(movies name),crew and director_list\n",
        "df_actor_director=pd.merge(df_movies, df_dir_crew, on=\"original_title\")\n"
      ],
      "execution_count": 256,
      "outputs": []
    },
    {
      "cell_type": "code",
      "metadata": {
        "colab": {
          "base_uri": "https://localhost:8080/",
          "height": 193
        },
        "id": "MjAWCurUaKqi",
        "outputId": "16c06cf6-2d6a-4da4-ddb2-877d0731b5e0"
      },
      "source": [
        "df_actor_director.head(3)"
      ],
      "execution_count": 257,
      "outputs": [
        {
          "output_type": "execute_result",
          "data": {
            "text/html": [
              "<div>\n",
              "<style scoped>\n",
              "    .dataframe tbody tr th:only-of-type {\n",
              "        vertical-align: middle;\n",
              "    }\n",
              "\n",
              "    .dataframe tbody tr th {\n",
              "        vertical-align: top;\n",
              "    }\n",
              "\n",
              "    .dataframe thead th {\n",
              "        text-align: right;\n",
              "    }\n",
              "</style>\n",
              "<table border=\"1\" class=\"dataframe\">\n",
              "  <thead>\n",
              "    <tr style=\"text-align: right;\">\n",
              "      <th></th>\n",
              "      <th>original_title</th>\n",
              "      <th>cast</th>\n",
              "      <th>actors</th>\n",
              "      <th>crew</th>\n",
              "      <th>Directors</th>\n",
              "    </tr>\n",
              "  </thead>\n",
              "  <tbody>\n",
              "    <tr>\n",
              "      <th>0</th>\n",
              "      <td>Hot Tub Time Machine 2</td>\n",
              "      <td>[{'cast_id': 4, 'character': 'Lou', 'credit_id...</td>\n",
              "      <td>[Rob Corddry, Craig Robinson, Clark Duke, Adam...</td>\n",
              "      <td>[{'credit_id': '59ac067c92514107af02c8c8', 'de...</td>\n",
              "      <td>[Steve Pink]</td>\n",
              "    </tr>\n",
              "    <tr>\n",
              "      <th>1</th>\n",
              "      <td>The Princess Diaries 2: Royal Engagement</td>\n",
              "      <td>[{'cast_id': 1, 'character': 'Mia Thermopolis'...</td>\n",
              "      <td>[Anne Hathaway, Julie Andrews, H√©ctor Elizond...</td>\n",
              "      <td>[{'credit_id': '52fe43fe9251416c7502563d', 'de...</td>\n",
              "      <td>[Garry Marshall]</td>\n",
              "    </tr>\n",
              "    <tr>\n",
              "      <th>2</th>\n",
              "      <td>Whiplash</td>\n",
              "      <td>[{'cast_id': 5, 'character': 'Andrew Neimann',...</td>\n",
              "      <td>[Miles Teller, J.K. Simmons, Melissa Benoist, ...</td>\n",
              "      <td>[{'credit_id': '54d5356ec3a3683ba0000039', 'de...</td>\n",
              "      <td>[Damien Chazelle]</td>\n",
              "    </tr>\n",
              "  </tbody>\n",
              "</table>\n",
              "</div>"
            ],
            "text/plain": [
              "                             original_title  ...          Directors\n",
              "0                    Hot Tub Time Machine 2  ...       [Steve Pink]\n",
              "1  The Princess Diaries 2: Royal Engagement  ...   [Garry Marshall]\n",
              "2                                  Whiplash  ...  [Damien Chazelle]\n",
              "\n",
              "[3 rows x 5 columns]"
            ]
          },
          "metadata": {
            "tags": []
          },
          "execution_count": 257
        }
      ]
    },
    {
      "cell_type": "code",
      "metadata": {
        "colab": {
          "base_uri": "https://localhost:8080/",
          "height": 419
        },
        "id": "YT2O6FR3gH0Z",
        "outputId": "9fb2d6ba-bed7-44ea-c9a6-be47c6924135"
      },
      "source": [
        "df_actor_director.drop(labels=['cast', 'crew'], axis=1)"
      ],
      "execution_count": 258,
      "outputs": [
        {
          "output_type": "execute_result",
          "data": {
            "text/html": [
              "<div>\n",
              "<style scoped>\n",
              "    .dataframe tbody tr th:only-of-type {\n",
              "        vertical-align: middle;\n",
              "    }\n",
              "\n",
              "    .dataframe tbody tr th {\n",
              "        vertical-align: top;\n",
              "    }\n",
              "\n",
              "    .dataframe thead th {\n",
              "        text-align: right;\n",
              "    }\n",
              "</style>\n",
              "<table border=\"1\" class=\"dataframe\">\n",
              "  <thead>\n",
              "    <tr style=\"text-align: right;\">\n",
              "      <th></th>\n",
              "      <th>original_title</th>\n",
              "      <th>actors</th>\n",
              "      <th>Directors</th>\n",
              "    </tr>\n",
              "  </thead>\n",
              "  <tbody>\n",
              "    <tr>\n",
              "      <th>0</th>\n",
              "      <td>Hot Tub Time Machine 2</td>\n",
              "      <td>[Rob Corddry, Craig Robinson, Clark Duke, Adam...</td>\n",
              "      <td>[Steve Pink]</td>\n",
              "    </tr>\n",
              "    <tr>\n",
              "      <th>1</th>\n",
              "      <td>The Princess Diaries 2: Royal Engagement</td>\n",
              "      <td>[Anne Hathaway, Julie Andrews, H√©ctor Elizond...</td>\n",
              "      <td>[Garry Marshall]</td>\n",
              "    </tr>\n",
              "    <tr>\n",
              "      <th>2</th>\n",
              "      <td>Whiplash</td>\n",
              "      <td>[Miles Teller, J.K. Simmons, Melissa Benoist, ...</td>\n",
              "      <td>[Damien Chazelle]</td>\n",
              "    </tr>\n",
              "    <tr>\n",
              "      <th>3</th>\n",
              "      <td>Kahaani</td>\n",
              "      <td>[Vidya Balan, Nawazuddin Siddiqui, Parambrata ...</td>\n",
              "      <td>[Sujoy Ghosh]</td>\n",
              "    </tr>\n",
              "    <tr>\n",
              "      <th>4</th>\n",
              "      <td>마린보이</td>\n",
              "      <td>[Kim Kang-woo, Jo Jae-hyeon, Park Si-yeon, Kim...</td>\n",
              "      <td>[Jong-seok Yoon]</td>\n",
              "    </tr>\n",
              "    <tr>\n",
              "      <th>...</th>\n",
              "      <td>...</td>\n",
              "      <td>...</td>\n",
              "      <td>...</td>\n",
              "    </tr>\n",
              "    <tr>\n",
              "      <th>3027</th>\n",
              "      <td>Chasers</td>\n",
              "      <td>[Tom Berenger, William McNamara, –≠—Ä–∏–∫–∞ –≠...</td>\n",
              "      <td>[Dennis Hopper]</td>\n",
              "    </tr>\n",
              "    <tr>\n",
              "      <th>3028</th>\n",
              "      <td>Vi är bäst!</td>\n",
              "      <td>[Mira Barkhammar, Mira Grosin, Liv LeMoyne, Da...</td>\n",
              "      <td>[Lukas Moodysson]</td>\n",
              "    </tr>\n",
              "    <tr>\n",
              "      <th>3029</th>\n",
              "      <td>The Long Kiss Goodnight</td>\n",
              "      <td>[Geena Davis, Samuel L. Jackson, Yvonne Zima, ...</td>\n",
              "      <td>[Renny Harlin]</td>\n",
              "    </tr>\n",
              "    <tr>\n",
              "      <th>3030</th>\n",
              "      <td>Along Came Polly</td>\n",
              "      <td>[Ben Stiller, Jennifer Aniston, Philip Seymour...</td>\n",
              "      <td>[John Hamburg]</td>\n",
              "    </tr>\n",
              "    <tr>\n",
              "      <th>3031</th>\n",
              "      <td>Abduction</td>\n",
              "      <td>[Taylor Lautner, Lily Collins, Alfred Molina, ...</td>\n",
              "      <td>[John Singleton]</td>\n",
              "    </tr>\n",
              "  </tbody>\n",
              "</table>\n",
              "<p>3032 rows × 3 columns</p>\n",
              "</div>"
            ],
            "text/plain": [
              "                                original_title  ...          Directors\n",
              "0                       Hot Tub Time Machine 2  ...       [Steve Pink]\n",
              "1     The Princess Diaries 2: Royal Engagement  ...   [Garry Marshall]\n",
              "2                                     Whiplash  ...  [Damien Chazelle]\n",
              "3                                      Kahaani  ...      [Sujoy Ghosh]\n",
              "4                                         마린보이  ...   [Jong-seok Yoon]\n",
              "...                                        ...  ...                ...\n",
              "3027                                   Chasers  ...    [Dennis Hopper]\n",
              "3028                               Vi är bäst!  ...  [Lukas Moodysson]\n",
              "3029                   The Long Kiss Goodnight  ...     [Renny Harlin]\n",
              "3030                          Along Came Polly  ...     [John Hamburg]\n",
              "3031                                 Abduction  ...   [John Singleton]\n",
              "\n",
              "[3032 rows x 3 columns]"
            ]
          },
          "metadata": {
            "tags": []
          },
          "execution_count": 258
        }
      ]
    },
    {
      "cell_type": "code",
      "metadata": {
        "id": "T4uZ8vK3cTFA"
      },
      "source": [
        "#search can only be performed on single element of type string\n",
        "df_actor_director=df_actor_director.explode('Directors')"
      ],
      "execution_count": 259,
      "outputs": []
    },
    {
      "cell_type": "code",
      "metadata": {
        "colab": {
          "base_uri": "https://localhost:8080/",
          "height": 142
        },
        "id": "g7un01ifca5r",
        "outputId": "fd95b8eb-4d32-4418-f27e-91367b2e9eeb"
      },
      "source": [
        "df_actor_director.drop(labels=['cast', 'crew'], axis=1).head(3)"
      ],
      "execution_count": 260,
      "outputs": [
        {
          "output_type": "execute_result",
          "data": {
            "text/html": [
              "<div>\n",
              "<style scoped>\n",
              "    .dataframe tbody tr th:only-of-type {\n",
              "        vertical-align: middle;\n",
              "    }\n",
              "\n",
              "    .dataframe tbody tr th {\n",
              "        vertical-align: top;\n",
              "    }\n",
              "\n",
              "    .dataframe thead th {\n",
              "        text-align: right;\n",
              "    }\n",
              "</style>\n",
              "<table border=\"1\" class=\"dataframe\">\n",
              "  <thead>\n",
              "    <tr style=\"text-align: right;\">\n",
              "      <th></th>\n",
              "      <th>original_title</th>\n",
              "      <th>actors</th>\n",
              "      <th>Directors</th>\n",
              "    </tr>\n",
              "  </thead>\n",
              "  <tbody>\n",
              "    <tr>\n",
              "      <th>0</th>\n",
              "      <td>Hot Tub Time Machine 2</td>\n",
              "      <td>[Rob Corddry, Craig Robinson, Clark Duke, Adam...</td>\n",
              "      <td>Steve Pink</td>\n",
              "    </tr>\n",
              "    <tr>\n",
              "      <th>1</th>\n",
              "      <td>The Princess Diaries 2: Royal Engagement</td>\n",
              "      <td>[Anne Hathaway, Julie Andrews, H√©ctor Elizond...</td>\n",
              "      <td>Garry Marshall</td>\n",
              "    </tr>\n",
              "    <tr>\n",
              "      <th>2</th>\n",
              "      <td>Whiplash</td>\n",
              "      <td>[Miles Teller, J.K. Simmons, Melissa Benoist, ...</td>\n",
              "      <td>Damien Chazelle</td>\n",
              "    </tr>\n",
              "  </tbody>\n",
              "</table>\n",
              "</div>"
            ],
            "text/plain": [
              "                             original_title  ...        Directors\n",
              "0                    Hot Tub Time Machine 2  ...       Steve Pink\n",
              "1  The Princess Diaries 2: Royal Engagement  ...   Garry Marshall\n",
              "2                                  Whiplash  ...  Damien Chazelle\n",
              "\n",
              "[3 rows x 3 columns]"
            ]
          },
          "metadata": {
            "tags": []
          },
          "execution_count": 260
        }
      ]
    },
    {
      "cell_type": "code",
      "metadata": {
        "id": "Uwtt9ZS2c_qu"
      },
      "source": [
        "df_1=df_actor_director.loc[df_actor_director['Directors'].isin(['James Wan','Joss Whedon','Bill condon','Ron Howard' , 'Clint Eastwood' , 'Steven Spielberg'])]"
      ],
      "execution_count": 261,
      "outputs": []
    },
    {
      "cell_type": "code",
      "metadata": {
        "colab": {
          "base_uri": "https://localhost:8080/",
          "height": 142
        },
        "id": "0aJ0DuiWeCuL",
        "outputId": "9ff97b77-cb25-47f0-c4fb-6c08fb0cd42d"
      },
      "source": [
        "df_1.drop(labels=['cast', 'crew'], axis=1).head(3)"
      ],
      "execution_count": 262,
      "outputs": [
        {
          "output_type": "execute_result",
          "data": {
            "text/html": [
              "<div>\n",
              "<style scoped>\n",
              "    .dataframe tbody tr th:only-of-type {\n",
              "        vertical-align: middle;\n",
              "    }\n",
              "\n",
              "    .dataframe tbody tr th {\n",
              "        vertical-align: top;\n",
              "    }\n",
              "\n",
              "    .dataframe thead th {\n",
              "        text-align: right;\n",
              "    }\n",
              "</style>\n",
              "<table border=\"1\" class=\"dataframe\">\n",
              "  <thead>\n",
              "    <tr style=\"text-align: right;\">\n",
              "      <th></th>\n",
              "      <th>original_title</th>\n",
              "      <th>actors</th>\n",
              "      <th>Directors</th>\n",
              "    </tr>\n",
              "  </thead>\n",
              "  <tbody>\n",
              "    <tr>\n",
              "      <th>14</th>\n",
              "      <td>Minority Report</td>\n",
              "      <td>[Tom Cruise, Colin Farrell, Samantha Morton, M...</td>\n",
              "      <td>Steven Spielberg</td>\n",
              "    </tr>\n",
              "    <tr>\n",
              "      <th>107</th>\n",
              "      <td>A Beautiful Mind</td>\n",
              "      <td>[Russell Crowe, Ed Harris, Jennifer Connelly, ...</td>\n",
              "      <td>Ron Howard</td>\n",
              "    </tr>\n",
              "    <tr>\n",
              "      <th>118</th>\n",
              "      <td>In the Heart of the Sea</td>\n",
              "      <td>[Chris Hemsworth, Benjamin Walker, Cillian Mur...</td>\n",
              "      <td>Ron Howard</td>\n",
              "    </tr>\n",
              "  </tbody>\n",
              "</table>\n",
              "</div>"
            ],
            "text/plain": [
              "              original_title  ...         Directors\n",
              "14           Minority Report  ...  Steven Spielberg\n",
              "107         A Beautiful Mind  ...        Ron Howard\n",
              "118  In the Heart of the Sea  ...        Ron Howard\n",
              "\n",
              "[3 rows x 3 columns]"
            ]
          },
          "metadata": {
            "tags": []
          },
          "execution_count": 262
        }
      ]
    },
    {
      "cell_type": "code",
      "metadata": {
        "colab": {
          "base_uri": "https://localhost:8080/",
          "height": 235
        },
        "id": "s4fLr70IfrKo",
        "outputId": "9d064696-d63b-4e62-9b48-bb535ae50a6d"
      },
      "source": [
        "df_1.groupby(['Directors'])[['actors']].sum()"
      ],
      "execution_count": 263,
      "outputs": [
        {
          "output_type": "execute_result",
          "data": {
            "text/html": [
              "<div>\n",
              "<style scoped>\n",
              "    .dataframe tbody tr th:only-of-type {\n",
              "        vertical-align: middle;\n",
              "    }\n",
              "\n",
              "    .dataframe tbody tr th {\n",
              "        vertical-align: top;\n",
              "    }\n",
              "\n",
              "    .dataframe thead th {\n",
              "        text-align: right;\n",
              "    }\n",
              "</style>\n",
              "<table border=\"1\" class=\"dataframe\">\n",
              "  <thead>\n",
              "    <tr style=\"text-align: right;\">\n",
              "      <th></th>\n",
              "      <th>actors</th>\n",
              "    </tr>\n",
              "    <tr>\n",
              "      <th>Directors</th>\n",
              "      <th></th>\n",
              "    </tr>\n",
              "  </thead>\n",
              "  <tbody>\n",
              "    <tr>\n",
              "      <th>Clint Eastwood</th>\n",
              "      <td>[Angelina Jolie, Jeffrey Donovan, John Malkovi...</td>\n",
              "    </tr>\n",
              "    <tr>\n",
              "      <th>James Wan</th>\n",
              "      <td>[Patrick Wilson, Vera Farmiga, Lili Taylor, Ro...</td>\n",
              "    </tr>\n",
              "    <tr>\n",
              "      <th>Joss Whedon</th>\n",
              "      <td>[Robert Downey Jr., Chris Evans, Mark Ruffalo,...</td>\n",
              "    </tr>\n",
              "    <tr>\n",
              "      <th>Ron Howard</th>\n",
              "      <td>[Russell Crowe, Ed Harris, Jennifer Connelly, ...</td>\n",
              "    </tr>\n",
              "    <tr>\n",
              "      <th>Steven Spielberg</th>\n",
              "      <td>[Tom Cruise, Colin Farrell, Samantha Morton, M...</td>\n",
              "    </tr>\n",
              "  </tbody>\n",
              "</table>\n",
              "</div>"
            ],
            "text/plain": [
              "                                                             actors\n",
              "Directors                                                          \n",
              "Clint Eastwood    [Angelina Jolie, Jeffrey Donovan, John Malkovi...\n",
              "James Wan         [Patrick Wilson, Vera Farmiga, Lili Taylor, Ro...\n",
              "Joss Whedon       [Robert Downey Jr., Chris Evans, Mark Ruffalo,...\n",
              "Ron Howard        [Russell Crowe, Ed Harris, Jennifer Connelly, ...\n",
              "Steven Spielberg  [Tom Cruise, Colin Farrell, Samantha Morton, M..."
            ]
          },
          "metadata": {
            "tags": []
          },
          "execution_count": 263
        }
      ]
    },
    {
      "cell_type": "markdown",
      "metadata": {
        "id": "2SIcjbrtjjH1"
      },
      "source": [
        "From above we can conclude the top 4 Directors(based on both parameters) prefers actors in list"
      ]
    },
    {
      "cell_type": "markdown",
      "metadata": {
        "id": "tCvG_u1vXTXh"
      },
      "source": [
        "# <b><u>Problem 3 :</u> Make a table of all the producers and directors of each movie. Find the top 3 producers who have produced movies with the highest average RoI."
      ]
    },
    {
      "cell_type": "code",
      "metadata": {
        "id": "sMkh6DPCQRxr"
      },
      "source": [
        "# Hint below: Create a dataframe which looks like as shown\n",
        "# DataFrame1\n",
        "Movie    Producers     Directors\n",
        "\n",
        "Movie1    [p1, p2]     [d1, d2]\n",
        "Movie2    [p3, p4]     [d3, d4]\n",
        "\n",
        "# DataFrame2\n",
        "Movie    Producers       ROI\n",
        "Movie1     p1            12\n",
        "Movie1     p2            13\n",
        "Movie2     p3            14\n",
        "movie2     p4            15\n",
        "\n",
        "# DataFrame3\n",
        "Producer   Movies         Average_ROI\n",
        "p1.    [m1, m2, m3]    avg_roi(m1, m2, m3)\n",
        "p2     [m2, m4, m5]    avg_roi(m2, m4, m5)"
      ],
      "execution_count": null,
      "outputs": []
    },
    {
      "cell_type": "code",
      "metadata": {
        "id": "5nXIINbDia7R",
        "colab": {
          "base_uri": "https://localhost:8080/"
        },
        "outputId": "44a60296-ef8f-464e-ea65-38a735551877"
      },
      "source": [
        "# Your code here\n",
        "#This Dataframe can be used to generate ROI\n",
        "df_imdb_dir.info()\n"
      ],
      "execution_count": 264,
      "outputs": [
        {
          "output_type": "stream",
          "text": [
            "<class 'pandas.core.frame.DataFrame'>\n",
            "RangeIndex: 3000 entries, 0 to 2999\n",
            "Data columns (total 5 columns):\n",
            " #   Column          Non-Null Count  Dtype \n",
            "---  ------          --------------  ----- \n",
            " 0   budget          3000 non-null   int64 \n",
            " 1   original_title  3000 non-null   object\n",
            " 2   crew            2984 non-null   object\n",
            " 3   revenue         3000 non-null   int64 \n",
            " 4   Profit          3000 non-null   int64 \n",
            "dtypes: int64(3), object(2)\n",
            "memory usage: 117.3+ KB\n"
          ],
          "name": "stdout"
        }
      ]
    },
    {
      "cell_type": "code",
      "metadata": {
        "colab": {
          "base_uri": "https://localhost:8080/"
        },
        "id": "G131wRNmPhlQ",
        "outputId": "f3e3550a-d2c6-4f42-d7e3-1fdc4771cb77"
      },
      "source": [
        "#check null values\n",
        "df_imdb_dir.isnull().sum()"
      ],
      "execution_count": 265,
      "outputs": [
        {
          "output_type": "execute_result",
          "data": {
            "text/plain": [
              "budget             0\n",
              "original_title     0\n",
              "crew              16\n",
              "revenue            0\n",
              "Profit             0\n",
              "dtype: int64"
            ]
          },
          "metadata": {
            "tags": []
          },
          "execution_count": 265
        }
      ]
    },
    {
      "cell_type": "code",
      "metadata": {
        "colab": {
          "base_uri": "https://localhost:8080/",
          "height": 419
        },
        "id": "1bgew4AjPqhH",
        "outputId": "70f8feb7-6e6c-47ed-f165-6f3bafdc8cd5"
      },
      "source": [
        "#check if budget has value = 0\n",
        "df_imdb_dir.loc[df_imdb_dir['budget']==0]\n",
        "#So there are 812 rows having budget =0\n",
        "#"
      ],
      "execution_count": 266,
      "outputs": [
        {
          "output_type": "execute_result",
          "data": {
            "text/html": [
              "<div>\n",
              "<style scoped>\n",
              "    .dataframe tbody tr th:only-of-type {\n",
              "        vertical-align: middle;\n",
              "    }\n",
              "\n",
              "    .dataframe tbody tr th {\n",
              "        vertical-align: top;\n",
              "    }\n",
              "\n",
              "    .dataframe thead th {\n",
              "        text-align: right;\n",
              "    }\n",
              "</style>\n",
              "<table border=\"1\" class=\"dataframe\">\n",
              "  <thead>\n",
              "    <tr style=\"text-align: right;\">\n",
              "      <th></th>\n",
              "      <th>budget</th>\n",
              "      <th>original_title</th>\n",
              "      <th>crew</th>\n",
              "      <th>revenue</th>\n",
              "      <th>Profit</th>\n",
              "    </tr>\n",
              "  </thead>\n",
              "  <tbody>\n",
              "    <tr>\n",
              "      <th>4</th>\n",
              "      <td>0</td>\n",
              "      <td>마린보이</td>\n",
              "      <td>[{'credit_id': '52fe464b9251416c75073b43', 'de...</td>\n",
              "      <td>3923970</td>\n",
              "      <td>3923970</td>\n",
              "    </tr>\n",
              "    <tr>\n",
              "      <th>7</th>\n",
              "      <td>0</td>\n",
              "      <td>Control Room</td>\n",
              "      <td>[{'credit_id': '52fe47a69251416c750a0daf', 'de...</td>\n",
              "      <td>2586511</td>\n",
              "      <td>2586511</td>\n",
              "    </tr>\n",
              "    <tr>\n",
              "      <th>8</th>\n",
              "      <td>0</td>\n",
              "      <td>Muppet Treasure Island</td>\n",
              "      <td>[{'credit_id': '52fe43c89251416c7501deb3', 'de...</td>\n",
              "      <td>34327391</td>\n",
              "      <td>34327391</td>\n",
              "    </tr>\n",
              "    <tr>\n",
              "      <th>11</th>\n",
              "      <td>0</td>\n",
              "      <td>Revenge of the Nerds II: Nerds in Paradise</td>\n",
              "      <td>[{'credit_id': '52fe46f49251416c750891e9', 'de...</td>\n",
              "      <td>22642033</td>\n",
              "      <td>22642033</td>\n",
              "    </tr>\n",
              "    <tr>\n",
              "      <th>17</th>\n",
              "      <td>0</td>\n",
              "      <td>The Invisible Woman</td>\n",
              "      <td>[{'credit_id': '53b94a260e0a2676c7009b37', 'de...</td>\n",
              "      <td>1234254</td>\n",
              "      <td>1234254</td>\n",
              "    </tr>\n",
              "    <tr>\n",
              "      <th>...</th>\n",
              "      <td>...</td>\n",
              "      <td>...</td>\n",
              "      <td>...</td>\n",
              "      <td>...</td>\n",
              "      <td>...</td>\n",
              "    </tr>\n",
              "    <tr>\n",
              "      <th>2989</th>\n",
              "      <td>0</td>\n",
              "      <td>The Trumpet Of The Swan</td>\n",
              "      <td>[{'credit_id': '58bc9d609251416084044b0e', 'de...</td>\n",
              "      <td>100202</td>\n",
              "      <td>100202</td>\n",
              "    </tr>\n",
              "    <tr>\n",
              "      <th>2990</th>\n",
              "      <td>0</td>\n",
              "      <td>B.A.P.S.</td>\n",
              "      <td>[{'credit_id': '52fe477b9251416c7509af57', 'de...</td>\n",
              "      <td>7240837</td>\n",
              "      <td>7240837</td>\n",
              "    </tr>\n",
              "    <tr>\n",
              "      <th>2994</th>\n",
              "      <td>0</td>\n",
              "      <td>School Ties</td>\n",
              "      <td>[{'credit_id': '5637777ac3a3681b4d01f9f5', 'de...</td>\n",
              "      <td>14715067</td>\n",
              "      <td>14715067</td>\n",
              "    </tr>\n",
              "    <tr>\n",
              "      <th>2995</th>\n",
              "      <td>0</td>\n",
              "      <td>Chasers</td>\n",
              "      <td>[{'credit_id': '52fe4494c3a368484e02ac7d', 'de...</td>\n",
              "      <td>1596687</td>\n",
              "      <td>1596687</td>\n",
              "    </tr>\n",
              "    <tr>\n",
              "      <th>2996</th>\n",
              "      <td>0</td>\n",
              "      <td>Vi är bäst!</td>\n",
              "      <td>[{'credit_id': '5716b72ac3a3686678012c84', 'de...</td>\n",
              "      <td>180590</td>\n",
              "      <td>180590</td>\n",
              "    </tr>\n",
              "  </tbody>\n",
              "</table>\n",
              "<p>812 rows × 5 columns</p>\n",
              "</div>"
            ],
            "text/plain": [
              "      budget                              original_title  ...   revenue    Profit\n",
              "4          0                                        마린보이  ...   3923970   3923970\n",
              "7          0                                Control Room  ...   2586511   2586511\n",
              "8          0                      Muppet Treasure Island  ...  34327391  34327391\n",
              "11         0  Revenge of the Nerds II: Nerds in Paradise  ...  22642033  22642033\n",
              "17         0                         The Invisible Woman  ...   1234254   1234254\n",
              "...      ...                                         ...  ...       ...       ...\n",
              "2989       0                     The Trumpet Of The Swan  ...    100202    100202\n",
              "2990       0                                    B.A.P.S.  ...   7240837   7240837\n",
              "2994       0                                 School Ties  ...  14715067  14715067\n",
              "2995       0                                     Chasers  ...   1596687   1596687\n",
              "2996       0                                 Vi är bäst!  ...    180590    180590\n",
              "\n",
              "[812 rows x 5 columns]"
            ]
          },
          "metadata": {
            "tags": []
          },
          "execution_count": 266
        }
      ]
    },
    {
      "cell_type": "code",
      "metadata": {
        "id": "psA8-bMFOrMs"
      },
      "source": [
        "#function to calculate ROI\n",
        "def roi(Profit,budget):\n",
        "  if(budget == 0):\n",
        "    roi=0\n",
        "  else:\n",
        "    roi = int((Profit/budget)*100)\n",
        "\n",
        "  return roi"
      ],
      "execution_count": 267,
      "outputs": []
    },
    {
      "cell_type": "code",
      "metadata": {
        "id": "V2Md7MfhPKWw"
      },
      "source": [
        "#create new column having ROI for each movie\n",
        "df_imdb_dir['ROI']=df_imdb_dir.apply(lambda x:roi(x['Profit'],x['budget']),axis=1)"
      ],
      "execution_count": 268,
      "outputs": []
    },
    {
      "cell_type": "code",
      "metadata": {
        "colab": {
          "base_uri": "https://localhost:8080/",
          "height": 142
        },
        "id": "_p9VYKp7zR87",
        "outputId": "c205c78c-ed45-40be-8822-6248daedc510"
      },
      "source": [
        "df_imdb_dir.head(3)"
      ],
      "execution_count": 269,
      "outputs": [
        {
          "output_type": "execute_result",
          "data": {
            "text/html": [
              "<div>\n",
              "<style scoped>\n",
              "    .dataframe tbody tr th:only-of-type {\n",
              "        vertical-align: middle;\n",
              "    }\n",
              "\n",
              "    .dataframe tbody tr th {\n",
              "        vertical-align: top;\n",
              "    }\n",
              "\n",
              "    .dataframe thead th {\n",
              "        text-align: right;\n",
              "    }\n",
              "</style>\n",
              "<table border=\"1\" class=\"dataframe\">\n",
              "  <thead>\n",
              "    <tr style=\"text-align: right;\">\n",
              "      <th></th>\n",
              "      <th>budget</th>\n",
              "      <th>original_title</th>\n",
              "      <th>crew</th>\n",
              "      <th>revenue</th>\n",
              "      <th>Profit</th>\n",
              "      <th>ROI</th>\n",
              "    </tr>\n",
              "  </thead>\n",
              "  <tbody>\n",
              "    <tr>\n",
              "      <th>0</th>\n",
              "      <td>14000000</td>\n",
              "      <td>Hot Tub Time Machine 2</td>\n",
              "      <td>[{'credit_id': '59ac067c92514107af02c8c8', 'de...</td>\n",
              "      <td>12314651</td>\n",
              "      <td>-1685349</td>\n",
              "      <td>-12</td>\n",
              "    </tr>\n",
              "    <tr>\n",
              "      <th>1</th>\n",
              "      <td>40000000</td>\n",
              "      <td>The Princess Diaries 2: Royal Engagement</td>\n",
              "      <td>[{'credit_id': '52fe43fe9251416c7502563d', 'de...</td>\n",
              "      <td>95149435</td>\n",
              "      <td>55149435</td>\n",
              "      <td>137</td>\n",
              "    </tr>\n",
              "    <tr>\n",
              "      <th>2</th>\n",
              "      <td>3300000</td>\n",
              "      <td>Whiplash</td>\n",
              "      <td>[{'credit_id': '54d5356ec3a3683ba0000039', 'de...</td>\n",
              "      <td>13092000</td>\n",
              "      <td>9792000</td>\n",
              "      <td>296</td>\n",
              "    </tr>\n",
              "  </tbody>\n",
              "</table>\n",
              "</div>"
            ],
            "text/plain": [
              "     budget                            original_title  ...    Profit  ROI\n",
              "0  14000000                    Hot Tub Time Machine 2  ...  -1685349  -12\n",
              "1  40000000  The Princess Diaries 2: Royal Engagement  ...  55149435  137\n",
              "2   3300000                                  Whiplash  ...   9792000  296\n",
              "\n",
              "[3 rows x 6 columns]"
            ]
          },
          "metadata": {
            "tags": []
          },
          "execution_count": 269
        }
      ]
    },
    {
      "cell_type": "code",
      "metadata": {
        "colab": {
          "base_uri": "https://localhost:8080/"
        },
        "id": "-1WuTOYJR9J9",
        "outputId": "c98e0b73-c4ba-425f-8703-e0754f60f387"
      },
      "source": [
        "df_dir_crew.crew[0]"
      ],
      "execution_count": 270,
      "outputs": [
        {
          "output_type": "execute_result",
          "data": {
            "text/plain": [
              "[{'credit_id': '59ac067c92514107af02c8c8',\n",
              "  'department': 'Directing',\n",
              "  'gender': 0,\n",
              "  'id': 1449071,\n",
              "  'job': 'First Assistant Director',\n",
              "  'name': 'Kelly Cantley',\n",
              "  'profile_path': None},\n",
              " {'credit_id': '52fe4ee7c3a36847f82afad7',\n",
              "  'department': 'Directing',\n",
              "  'gender': 2,\n",
              "  'id': 3227,\n",
              "  'job': 'Director',\n",
              "  'name': 'Steve Pink',\n",
              "  'profile_path': '/myHOgo8mQSCiCAZNGMRdHVr03jr.jpg'},\n",
              " {'credit_id': '5524ed25c3a3687ded000d88',\n",
              "  'department': 'Writing',\n",
              "  'gender': 2,\n",
              "  'id': 347335,\n",
              "  'job': 'Writer',\n",
              "  'name': 'Josh Heald',\n",
              "  'profile_path': '/pwXJIenrDMrG7t3zNfLvr8w1RGU.jpg'},\n",
              " {'credit_id': '5524ed2d925141720c001128',\n",
              "  'department': 'Writing',\n",
              "  'gender': 2,\n",
              "  'id': 347335,\n",
              "  'job': 'Characters',\n",
              "  'name': 'Josh Heald',\n",
              "  'profile_path': '/pwXJIenrDMrG7t3zNfLvr8w1RGU.jpg'},\n",
              " {'credit_id': '5524ed3d92514166c1004a5d',\n",
              "  'department': 'Production',\n",
              "  'gender': 2,\n",
              "  'id': 57822,\n",
              "  'job': 'Producer',\n",
              "  'name': 'Andrew Panay',\n",
              "  'profile_path': None},\n",
              " {'credit_id': '5524ed4bc3a3687df3000dd2',\n",
              "  'department': 'Production',\n",
              "  'gender': 0,\n",
              "  'id': 1451395,\n",
              "  'job': 'Associate Producer',\n",
              "  'name': 'Adam Blum',\n",
              "  'profile_path': None},\n",
              " {'credit_id': '5524ed5a925141720c00112c',\n",
              "  'department': 'Production',\n",
              "  'gender': 2,\n",
              "  'id': 52997,\n",
              "  'job': 'Executive Producer',\n",
              "  'name': 'Rob Corddry',\n",
              "  'profile_path': '/k2zJL0V1nEZuFT08xUdOd3ucfXz.jpg'},\n",
              " {'credit_id': '5524ed85c3a3687e0e000f56',\n",
              "  'department': 'Production',\n",
              "  'gender': 0,\n",
              "  'id': 62807,\n",
              "  'job': 'Executive Producer',\n",
              "  'name': 'Ben Ormand',\n",
              "  'profile_path': None},\n",
              " {'credit_id': '5524ed9fc3a3687e0e000f59',\n",
              "  'department': 'Sound',\n",
              "  'gender': 2,\n",
              "  'id': 23486,\n",
              "  'job': 'Original Music Composer',\n",
              "  'name': 'Christophe Beck',\n",
              "  'profile_path': '/2fnJUmCk6IEpVIptpYaUk31epHx.jpg'},\n",
              " {'credit_id': '5524eda6c3a3687e03000d28',\n",
              "  'department': 'Camera',\n",
              "  'gender': 2,\n",
              "  'id': 6117,\n",
              "  'job': 'Director of Photography',\n",
              "  'name': 'Declan Quinn',\n",
              "  'profile_path': None},\n",
              " {'credit_id': '5524edb4925141720c00113d',\n",
              "  'department': 'Editing',\n",
              "  'gender': 0,\n",
              "  'id': 1451396,\n",
              "  'job': 'Editor',\n",
              "  'name': 'Jamie Gross',\n",
              "  'profile_path': None},\n",
              " {'credit_id': '5524edc1925141727600102e',\n",
              "  'department': 'Production',\n",
              "  'gender': 0,\n",
              "  'id': 22219,\n",
              "  'job': 'Casting',\n",
              "  'name': 'Susie Farris',\n",
              "  'profile_path': None},\n",
              " {'credit_id': '5524edd192514171cb008257',\n",
              "  'department': 'Art',\n",
              "  'gender': 0,\n",
              "  'id': 1002643,\n",
              "  'job': 'Production Design',\n",
              "  'name': 'Ryan Berg',\n",
              "  'profile_path': None},\n",
              " {'credit_id': '555ad9be9251411e5b00d485',\n",
              "  'department': 'Production',\n",
              "  'gender': 2,\n",
              "  'id': 57431,\n",
              "  'job': 'Executive Producer',\n",
              "  'name': 'Matt Moore',\n",
              "  'profile_path': None},\n",
              " {'credit_id': '5677e93bc3a36816890087dc',\n",
              "  'department': 'Directing',\n",
              "  'gender': 0,\n",
              "  'id': 1551818,\n",
              "  'job': 'Script Supervisor',\n",
              "  'name': 'Nicole Garcea',\n",
              "  'profile_path': None},\n",
              " {'credit_id': '5677e96a92514179e10093d0',\n",
              "  'department': 'Production',\n",
              "  'gender': 0,\n",
              "  'id': 1551819,\n",
              "  'job': 'Production Coordinator',\n",
              "  'name': 'Jason Salzman',\n",
              "  'profile_path': None},\n",
              " {'credit_id': '5677e98492514179d2008cd9',\n",
              "  'department': 'Costume & Make-Up',\n",
              "  'gender': 0,\n",
              "  'id': 1422996,\n",
              "  'job': 'Costume Design',\n",
              "  'name': 'Carol Cutshall',\n",
              "  'profile_path': None},\n",
              " {'credit_id': '5677e9d5c3a368168e009414',\n",
              "  'department': 'Art',\n",
              "  'gender': 2,\n",
              "  'id': 500199,\n",
              "  'job': 'Set Decoration',\n",
              "  'name': 'Tim Cohn',\n",
              "  'profile_path': None},\n",
              " {'credit_id': '5677f89d9251417845001a61',\n",
              "  'department': 'Costume & Make-Up',\n",
              "  'gender': 0,\n",
              "  'id': 1527917,\n",
              "  'job': 'Hair Department Head',\n",
              "  'name': 'Voni Hinkle',\n",
              "  'profile_path': None},\n",
              " {'credit_id': '5677f8b392514179dd0089fb',\n",
              "  'department': 'Costume & Make-Up',\n",
              "  'gender': 0,\n",
              "  'id': 1431554,\n",
              "  'job': 'Makeup Department Head',\n",
              "  'name': 'Remi Savva',\n",
              "  'profile_path': None},\n",
              " {'credit_id': '5677f8d1c3a3681689008a4b',\n",
              "  'department': 'Art',\n",
              "  'gender': 0,\n",
              "  'id': 66495,\n",
              "  'job': 'Art Direction',\n",
              "  'name': 'Jason Baldwin Stewart',\n",
              "  'profile_path': None},\n",
              " {'credit_id': '5677f8eec3a3681685008dd5',\n",
              "  'department': 'Production',\n",
              "  'gender': 0,\n",
              "  'id': 1412466,\n",
              "  'job': 'Production Supervisor',\n",
              "  'name': 'Korey Budd',\n",
              "  'profile_path': None},\n",
              " {'credit_id': '5677f90a9251417845001a7d',\n",
              "  'department': 'Sound',\n",
              "  'gender': 0,\n",
              "  'id': 1401562,\n",
              "  'job': 'Sound Re-Recording Mixer',\n",
              "  'name': 'Gary C. Bourgeois',\n",
              "  'profile_path': None},\n",
              " {'credit_id': '5677f91e9251417845001a84',\n",
              "  'department': 'Sound',\n",
              "  'gender': 0,\n",
              "  'id': 1396794,\n",
              "  'job': 'Sound Re-Recording Mixer',\n",
              "  'name': 'Gabriel J. Serrano',\n",
              "  'profile_path': None},\n",
              " {'credit_id': '5677f938c3a3681680008dd4',\n",
              "  'department': 'Editing',\n",
              "  'gender': 0,\n",
              "  'id': 13168,\n",
              "  'job': 'Dialogue Editor',\n",
              "  'name': 'Victoria Rose Sampson',\n",
              "  'profile_path': None},\n",
              " {'credit_id': '5677f94e92514179dd008a1f',\n",
              "  'department': 'Sound',\n",
              "  'gender': 0,\n",
              "  'id': 1551839,\n",
              "  'job': 'Production Sound Mixer',\n",
              "  'name': 'Michael B. Koff',\n",
              "  'profile_path': None},\n",
              " {'credit_id': '5677f968c3a368168e009698',\n",
              "  'department': 'Sound',\n",
              "  'gender': 0,\n",
              "  'id': 113052,\n",
              "  'job': 'Sound Effects Editor',\n",
              "  'name': 'Randall Guth',\n",
              "  'profile_path': None},\n",
              " {'credit_id': '5677f98dc3a3681685008e02',\n",
              "  'department': 'Crew',\n",
              "  'gender': 2,\n",
              "  'id': 1442535,\n",
              "  'job': 'Stunt Coordinator',\n",
              "  'name': 'Chuck Picerni Jr.',\n",
              "  'profile_path': '/yE5QtXUzcrnCzMRctZL8F5g842B.jpg'},\n",
              " {'credit_id': '5677f9a692514179dd008a49',\n",
              "  'department': 'Camera',\n",
              "  'gender': 0,\n",
              "  'id': 1437305,\n",
              "  'job': 'Camera Operator',\n",
              "  'name': 'Michael Applebaum',\n",
              "  'profile_path': None},\n",
              " {'credit_id': '5677f9bd9251417845001aae',\n",
              "  'department': 'Camera',\n",
              "  'gender': 0,\n",
              "  'id': 1401765,\n",
              "  'job': 'Still Photographer',\n",
              "  'name': 'Steve Dietl',\n",
              "  'profile_path': None},\n",
              " {'credit_id': '5677f9e592514179e7008bf7',\n",
              "  'department': 'Lighting',\n",
              "  'gender': 0,\n",
              "  'id': 1402721,\n",
              "  'job': 'Rigging Gaffer',\n",
              "  'name': 'Tarik Naim Alherimi',\n",
              "  'profile_path': None},\n",
              " {'credit_id': '5677f9f4c3a368167c0090ed',\n",
              "  'department': 'Lighting',\n",
              "  'gender': 0,\n",
              "  'id': 1402719,\n",
              "  'job': 'Gaffer',\n",
              "  'name': 'Paul Olinde',\n",
              "  'profile_path': None},\n",
              " {'credit_id': '5677fa21c3a368168e0096ca',\n",
              "  'department': 'Sound',\n",
              "  'gender': 0,\n",
              "  'id': 1551840,\n",
              "  'job': 'Music Supervisor',\n",
              "  'name': 'Steve Griffen',\n",
              "  'profile_path': None},\n",
              " {'credit_id': '5677fa31c3a3681680008e04',\n",
              "  'department': 'Sound',\n",
              "  'gender': 0,\n",
              "  'id': 1551841,\n",
              "  'job': 'Music Editor',\n",
              "  'name': 'Matt Fausak',\n",
              "  'profile_path': None},\n",
              " {'credit_id': '5677fa4392514179dd008a76',\n",
              "  'department': 'Sound',\n",
              "  'gender': 0,\n",
              "  'id': 1551840,\n",
              "  'job': 'Music Editor',\n",
              "  'name': 'Steve Griffen',\n",
              "  'profile_path': None},\n",
              " {'credit_id': '5677fa609251417845001acf',\n",
              "  'department': 'Costume & Make-Up',\n",
              "  'gender': 0,\n",
              "  'id': 1403416,\n",
              "  'job': 'Costume Supervisor',\n",
              "  'name': 'Shonta T. McCray',\n",
              "  'profile_path': None},\n",
              " {'credit_id': '5677fa8492514179d2008fb3',\n",
              "  'department': 'Camera',\n",
              "  'gender': 0,\n",
              "  'id': 1425831,\n",
              "  'job': 'Steadicam Operator',\n",
              "  'name': 'Mark Karavite',\n",
              "  'profile_path': None},\n",
              " {'credit_id': '5677fab2c3a3681689008ac3',\n",
              "  'department': 'Camera',\n",
              "  'gender': 0,\n",
              "  'id': 1551842,\n",
              "  'job': 'First Assistant Camera',\n",
              "  'name': 'Joe Waistell',\n",
              "  'profile_path': None},\n",
              " {'credit_id': '5677faecc3a368168e0096fe',\n",
              "  'department': 'Sound',\n",
              "  'gender': 0,\n",
              "  'id': 58362,\n",
              "  'job': 'Supervising Sound Editor',\n",
              "  'name': 'Michael Hilkene',\n",
              "  'profile_path': None},\n",
              " {'credit_id': '59ac0368c3a3682c0a02c484',\n",
              "  'department': 'Crew',\n",
              "  'gender': 0,\n",
              "  'id': 1881584,\n",
              "  'job': 'Additional Writing',\n",
              "  'name': 'John Karnay',\n",
              "  'profile_path': None},\n",
              " {'credit_id': '59ac0411c3a3682bf0028966',\n",
              "  'department': 'Costume & Make-Up',\n",
              "  'gender': 0,\n",
              "  'id': 1431552,\n",
              "  'job': 'Hairstylist',\n",
              "  'name': 'Daina Daigle',\n",
              "  'profile_path': None},\n",
              " {'credit_id': '59ac0504925141072302b8fb',\n",
              "  'department': 'Costume & Make-Up',\n",
              "  'gender': 0,\n",
              "  'id': 1712001,\n",
              "  'job': 'Makeup Artist',\n",
              "  'name': 'Allison Gordin',\n",
              "  'profile_path': None},\n",
              " {'credit_id': '59ac0570c3a3682bf0028aac',\n",
              "  'department': 'Costume & Make-Up',\n",
              "  'gender': 0,\n",
              "  'id': 578725,\n",
              "  'job': 'Makeup Artist',\n",
              "  'name': 'Darryl Lucas',\n",
              "  'profile_path': None},\n",
              " {'credit_id': '59ac05a4925141077e02c97e',\n",
              "  'department': 'Costume & Make-Up',\n",
              "  'gender': 0,\n",
              "  'id': 1463274,\n",
              "  'job': 'Makeup Artist',\n",
              "  'name': 'Annabelle MacNeal',\n",
              "  'profile_path': None},\n",
              " {'credit_id': '59ac05c6925141076502d106',\n",
              "  'department': 'Costume & Make-Up',\n",
              "  'gender': 0,\n",
              "  'id': 1881586,\n",
              "  'job': 'Makeup Artist',\n",
              "  'name': 'Marina Savva',\n",
              "  'profile_path': None},\n",
              " {'credit_id': '59ac0615c3a3682c480296aa',\n",
              "  'department': 'Costume & Make-Up',\n",
              "  'gender': 0,\n",
              "  'id': 1406267,\n",
              "  'job': 'Hairstylist',\n",
              "  'name': 'Carl G. Variste',\n",
              "  'profile_path': None},\n",
              " {'credit_id': '59ac06ba925141076502d1fa',\n",
              "  'department': 'Directing',\n",
              "  'gender': 0,\n",
              "  'id': 1798593,\n",
              "  'job': 'First Assistant Director',\n",
              "  'name': 'Josh King',\n",
              "  'profile_path': None},\n",
              " {'credit_id': '59ac06f1c3a3682c2202aca0',\n",
              "  'department': 'Art',\n",
              "  'gender': 0,\n",
              "  'id': 1415083,\n",
              "  'job': 'Greensman',\n",
              "  'name': 'Scott C. Bivona',\n",
              "  'profile_path': None},\n",
              " {'credit_id': '59ac072c925141076502d260',\n",
              "  'department': 'Art',\n",
              "  'gender': 0,\n",
              "  'id': 1881587,\n",
              "  'job': 'Title Designer',\n",
              "  'name': 'Eunha Choi',\n",
              "  'profile_path': None},\n",
              " {'credit_id': '59ac077c925141077e02cb62',\n",
              "  'department': 'Art',\n",
              "  'gender': 0,\n",
              "  'id': 1585302,\n",
              "  'job': 'Construction Coordinator',\n",
              "  'name': 'Daniel Coe',\n",
              "  'profile_path': None},\n",
              " {'credit_id': '59ac07e0925141078a02d842',\n",
              "  'department': 'Art',\n",
              "  'gender': 0,\n",
              "  'id': 1495523,\n",
              "  'job': 'Set Designer',\n",
              "  'name': 'Spencer Davison',\n",
              "  'profile_path': None},\n",
              " {'credit_id': '59ac0862925141072f02cf6f',\n",
              "  'department': 'Art',\n",
              "  'gender': 0,\n",
              "  'id': 1881589,\n",
              "  'job': 'Painter',\n",
              "  'name': 'Sonia L. Garcia',\n",
              "  'profile_path': None},\n",
              " {'credit_id': '59ac08e0c3a3682bf0028e51',\n",
              "  'department': 'Art',\n",
              "  'gender': 0,\n",
              "  'id': 1424896,\n",
              "  'job': 'Art Department Coordinator',\n",
              "  'name': 'Caleb Guillotte',\n",
              "  'profile_path': None},\n",
              " {'credit_id': '59ac0920c3a3682c2202af36',\n",
              "  'department': 'Art',\n",
              "  'gender': 0,\n",
              "  'id': 1393375,\n",
              "  'job': 'Leadman',\n",
              "  'name': \"Pat A. O'Connor\",\n",
              "  'profile_path': None},\n",
              " {'credit_id': '59ac095592514107af02cc39',\n",
              "  'department': 'Art',\n",
              "  'gender': 0,\n",
              "  'id': 1881592,\n",
              "  'job': 'Set Designer',\n",
              "  'name': 'Brendan Turrill',\n",
              "  'profile_path': None},\n",
              " {'credit_id': '59ac0989925141072302bdfa',\n",
              "  'department': 'Art',\n",
              "  'gender': 2,\n",
              "  'id': 76497,\n",
              "  'job': 'Property Master',\n",
              "  'name': 'Brook Yeaton',\n",
              "  'profile_path': None},\n",
              " {'credit_id': '59ac0a2cc3a3682c9c02add1',\n",
              "  'department': 'Sound',\n",
              "  'gender': 0,\n",
              "  'id': 1881596,\n",
              "  'job': 'Boom Operator',\n",
              "  'name': 'Matthew Armstrong',\n",
              "  'profile_path': None},\n",
              " {'credit_id': '59ac0aa8925141072f02d282',\n",
              "  'department': 'Visual Effects',\n",
              "  'gender': 2,\n",
              "  'id': 1558086,\n",
              "  'job': 'Special Effects Supervisor',\n",
              "  'name': 'Matt Kutcher',\n",
              "  'profile_path': None},\n",
              " {'credit_id': '59ac0b2ac3a3682c2202b192',\n",
              "  'department': 'Crew',\n",
              "  'gender': 2,\n",
              "  'id': 1558087,\n",
              "  'job': 'Special Effects Coordinator',\n",
              "  'name': 'Eric Roberts',\n",
              "  'profile_path': None},\n",
              " {'credit_id': '59ac0b7ac3a3682c2202b1fb',\n",
              "  'department': 'Visual Effects',\n",
              "  'gender': 0,\n",
              "  'id': 1392098,\n",
              "  'job': 'Visual Effects Supervisor',\n",
              "  'name': 'Rocco Passionino',\n",
              "  'profile_path': None},\n",
              " {'credit_id': '59ac0bbe925141077e02d0c4',\n",
              "  'department': 'Visual Effects',\n",
              "  'gender': 0,\n",
              "  'id': 1558716,\n",
              "  'job': 'Visual Effects Coordinator',\n",
              "  'name': 'Joseph Payo',\n",
              "  'profile_path': None},\n",
              " {'credit_id': '59ac0bf2c3a3682cc802cefa',\n",
              "  'department': 'Visual Effects',\n",
              "  'gender': 0,\n",
              "  'id': 1408784,\n",
              "  'job': 'Visual Effects Producer',\n",
              "  'name': 'Chris Roff',\n",
              "  'profile_path': None},\n",
              " {'credit_id': '59ac0c51c3a3682c48029d99',\n",
              "  'department': 'Lighting',\n",
              "  'gender': 0,\n",
              "  'id': 1881600,\n",
              "  'job': 'Best Boy Electric',\n",
              "  'name': 'Ulyan Atamanyuk',\n",
              "  'profile_path': None},\n",
              " {'credit_id': '59ac0cbac3a3682c0a02cff6',\n",
              "  'department': 'Camera',\n",
              "  'gender': 0,\n",
              "  'id': 1881602,\n",
              "  'job': 'Key Grip',\n",
              "  'name': 'Chris Ekstrom',\n",
              "  'profile_path': None},\n",
              " {'credit_id': '59ac0d54925141072f02d5e6',\n",
              "  'department': 'Lighting',\n",
              "  'gender': 0,\n",
              "  'id': 1484984,\n",
              "  'job': 'Best Boy Electric',\n",
              "  'name': 'Brad Garris',\n",
              "  'profile_path': None},\n",
              " {'credit_id': '59ac0db0925141078a02df86',\n",
              "  'department': 'Camera',\n",
              "  'gender': 0,\n",
              "  'id': 1881603,\n",
              "  'job': 'Dolly Grip',\n",
              "  'name': 'Kendell Joseph',\n",
              "  'profile_path': None},\n",
              " {'credit_id': '59ac0e5a925141077e02d39f',\n",
              "  'department': 'Camera',\n",
              "  'gender': 0,\n",
              "  'id': 1549179,\n",
              "  'job': 'Dolly Grip',\n",
              "  'name': 'Spencer Wilcox',\n",
              "  'profile_path': None},\n",
              " {'credit_id': '59ac0e9f925141079d02bee6',\n",
              "  'department': 'Costume & Make-Up',\n",
              "  'gender': 0,\n",
              "  'id': 1552626,\n",
              "  'job': 'Key Costumer',\n",
              "  'name': 'Sarah P. Koeppe',\n",
              "  'profile_path': None},\n",
              " {'credit_id': '59ac0ec1c3a3682bf0029524',\n",
              "  'department': 'Costume & Make-Up',\n",
              "  'gender': 0,\n",
              "  'id': 1881605,\n",
              "  'job': 'Seamstress',\n",
              "  'name': 'Catherine Rodi',\n",
              "  'profile_path': None},\n",
              " {'credit_id': '59ac0eef925141070702c7ff',\n",
              "  'department': 'Costume & Make-Up',\n",
              "  'gender': 0,\n",
              "  'id': 1463801,\n",
              "  'job': 'Seamstress',\n",
              "  'name': 'Giselle Spence',\n",
              "  'profile_path': None},\n",
              " {'credit_id': '59ac0f5dc3a3682c4802a0f5',\n",
              "  'department': 'Production',\n",
              "  'gender': 0,\n",
              "  'id': 1400837,\n",
              "  'job': 'Location Manager',\n",
              "  'name': 'John A. Johnston',\n",
              "  'profile_path': None},\n",
              " {'credit_id': '59ac0ff2c3a3682c4802a196',\n",
              "  'department': 'Crew',\n",
              "  'gender': 0,\n",
              "  'id': 1844322,\n",
              "  'job': 'Production Controller',\n",
              "  'name': 'Gail Marks',\n",
              "  'profile_path': None}]"
            ]
          },
          "metadata": {
            "tags": []
          },
          "execution_count": 270
        }
      ]
    },
    {
      "cell_type": "code",
      "metadata": {
        "id": "XToqg7azRWCf"
      },
      "source": [
        "#drop null values from crew column before converting it to list\n",
        "df_imdb_dir.dropna(inplace=True)"
      ],
      "execution_count": 271,
      "outputs": []
    },
    {
      "cell_type": "code",
      "metadata": {
        "id": "f9IRw7fvS1zo"
      },
      "source": [
        "#function to convert crew column to list\n",
        "def convert_2(str):\n",
        "  return eval(str)"
      ],
      "execution_count": 272,
      "outputs": []
    },
    {
      "cell_type": "code",
      "metadata": {
        "id": "rUO_h-JUS9xB"
      },
      "source": [
        "#convert column =crew to list\n",
        "df_imdb_dir.loc[:,'crew']=df_imdb_dir.loc[:,'crew'].apply(convert_2)"
      ],
      "execution_count": 273,
      "outputs": []
    },
    {
      "cell_type": "code",
      "metadata": {
        "id": "1YBp6qxEUKZj"
      },
      "source": [
        "df_imdb_dir['Directors']=df_imdb_dir.apply(lambda x : director(x['crew']),axis=1)"
      ],
      "execution_count": 274,
      "outputs": []
    },
    {
      "cell_type": "code",
      "metadata": {
        "id": "niKrF3A-Ql4t"
      },
      "source": [
        "#function to fetch producer  information only\n",
        "def prod(crew):\n",
        "  prod=[]\n",
        "  for elem in crew:\n",
        "    if(elem['job'] == 'Producer'):\n",
        "      prod.append(elem['name'])\n",
        "        \n",
        "  return prod"
      ],
      "execution_count": 275,
      "outputs": []
    },
    {
      "cell_type": "code",
      "metadata": {
        "id": "BzAyr612Sjt3"
      },
      "source": [
        "#genrate 2 columns (Producer and director)\n",
        "df_imdb_dir['Producers']=df_imdb_dir.apply(lambda x : prod(x['crew']),axis=1)"
      ],
      "execution_count": 276,
      "outputs": []
    },
    {
      "cell_type": "code",
      "metadata": {
        "colab": {
          "base_uri": "https://localhost:8080/",
          "height": 289
        },
        "id": "kYJHrTt3TxNM",
        "outputId": "fa93d39d-0952-4503-e33f-f1ffa299dfd2"
      },
      "source": [
        "df_imdb_dir.head(5)"
      ],
      "execution_count": 213,
      "outputs": [
        {
          "output_type": "execute_result",
          "data": {
            "text/html": [
              "<div>\n",
              "<style scoped>\n",
              "    .dataframe tbody tr th:only-of-type {\n",
              "        vertical-align: middle;\n",
              "    }\n",
              "\n",
              "    .dataframe tbody tr th {\n",
              "        vertical-align: top;\n",
              "    }\n",
              "\n",
              "    .dataframe thead th {\n",
              "        text-align: right;\n",
              "    }\n",
              "</style>\n",
              "<table border=\"1\" class=\"dataframe\">\n",
              "  <thead>\n",
              "    <tr style=\"text-align: right;\">\n",
              "      <th></th>\n",
              "      <th>budget</th>\n",
              "      <th>original_title</th>\n",
              "      <th>crew</th>\n",
              "      <th>revenue</th>\n",
              "      <th>Profit</th>\n",
              "      <th>ROI_%</th>\n",
              "      <th>Directors</th>\n",
              "      <th>Producers</th>\n",
              "    </tr>\n",
              "  </thead>\n",
              "  <tbody>\n",
              "    <tr>\n",
              "      <th>0</th>\n",
              "      <td>14000000</td>\n",
              "      <td>Hot Tub Time Machine 2</td>\n",
              "      <td>[{'credit_id': '59ac067c92514107af02c8c8', 'de...</td>\n",
              "      <td>12314651</td>\n",
              "      <td>-1685349</td>\n",
              "      <td>-12</td>\n",
              "      <td>[Steve Pink]</td>\n",
              "      <td>[Andrew Panay]</td>\n",
              "    </tr>\n",
              "    <tr>\n",
              "      <th>1</th>\n",
              "      <td>40000000</td>\n",
              "      <td>The Princess Diaries 2: Royal Engagement</td>\n",
              "      <td>[{'credit_id': '52fe43fe9251416c7502563d', 'de...</td>\n",
              "      <td>95149435</td>\n",
              "      <td>55149435</td>\n",
              "      <td>137</td>\n",
              "      <td>[Garry Marshall]</td>\n",
              "      <td>[Whitney Houston, Mario Iscovich, Debra Martin...</td>\n",
              "    </tr>\n",
              "    <tr>\n",
              "      <th>2</th>\n",
              "      <td>3300000</td>\n",
              "      <td>Whiplash</td>\n",
              "      <td>[{'credit_id': '54d5356ec3a3683ba0000039', 'de...</td>\n",
              "      <td>13092000</td>\n",
              "      <td>9792000</td>\n",
              "      <td>296</td>\n",
              "      <td>[Damien Chazelle]</td>\n",
              "      <td>[David Lancaster, Michel Litvak, Jason Blum, H...</td>\n",
              "    </tr>\n",
              "    <tr>\n",
              "      <th>3</th>\n",
              "      <td>1200000</td>\n",
              "      <td>Kahaani</td>\n",
              "      <td>[{'credit_id': '52fe48779251416c9108d6eb', 'de...</td>\n",
              "      <td>16000000</td>\n",
              "      <td>14800000</td>\n",
              "      <td>1233</td>\n",
              "      <td>[Sujoy Ghosh]</td>\n",
              "      <td>[Sujoy Ghosh]</td>\n",
              "    </tr>\n",
              "    <tr>\n",
              "      <th>4</th>\n",
              "      <td>0</td>\n",
              "      <td>마린보이</td>\n",
              "      <td>[{'credit_id': '52fe464b9251416c75073b43', 'de...</td>\n",
              "      <td>3923970</td>\n",
              "      <td>3923970</td>\n",
              "      <td>0</td>\n",
              "      <td>[Jong-seok Yoon]</td>\n",
              "      <td>[]</td>\n",
              "    </tr>\n",
              "  </tbody>\n",
              "</table>\n",
              "</div>"
            ],
            "text/plain": [
              "     budget  ...                                          Producers\n",
              "0  14000000  ...                                     [Andrew Panay]\n",
              "1  40000000  ...  [Whitney Houston, Mario Iscovich, Debra Martin...\n",
              "2   3300000  ...  [David Lancaster, Michel Litvak, Jason Blum, H...\n",
              "3   1200000  ...                                      [Sujoy Ghosh]\n",
              "4         0  ...                                                 []\n",
              "\n",
              "[5 rows x 8 columns]"
            ]
          },
          "metadata": {
            "tags": []
          },
          "execution_count": 213
        }
      ]
    },
    {
      "cell_type": "code",
      "metadata": {
        "colab": {
          "base_uri": "https://localhost:8080/",
          "height": 204
        },
        "id": "Ia0QrYbnUsQe",
        "outputId": "bba50c2e-05ce-46dc-bdd4-083c736c42c4"
      },
      "source": [
        "#First dataframe according to question asked consist of only 3 columns -Movies ,Producer and directors\n",
        "column6=['original_title','Producers','Directors']\n",
        "df_prod_dir=pd.DataFrame(df_imdb_dir,columns=column6)\n",
        "df_prod_dir.head(5)"
      ],
      "execution_count": 277,
      "outputs": [
        {
          "output_type": "execute_result",
          "data": {
            "text/html": [
              "<div>\n",
              "<style scoped>\n",
              "    .dataframe tbody tr th:only-of-type {\n",
              "        vertical-align: middle;\n",
              "    }\n",
              "\n",
              "    .dataframe tbody tr th {\n",
              "        vertical-align: top;\n",
              "    }\n",
              "\n",
              "    .dataframe thead th {\n",
              "        text-align: right;\n",
              "    }\n",
              "</style>\n",
              "<table border=\"1\" class=\"dataframe\">\n",
              "  <thead>\n",
              "    <tr style=\"text-align: right;\">\n",
              "      <th></th>\n",
              "      <th>original_title</th>\n",
              "      <th>Producers</th>\n",
              "      <th>Directors</th>\n",
              "    </tr>\n",
              "  </thead>\n",
              "  <tbody>\n",
              "    <tr>\n",
              "      <th>0</th>\n",
              "      <td>Hot Tub Time Machine 2</td>\n",
              "      <td>[Andrew Panay]</td>\n",
              "      <td>[Steve Pink]</td>\n",
              "    </tr>\n",
              "    <tr>\n",
              "      <th>1</th>\n",
              "      <td>The Princess Diaries 2: Royal Engagement</td>\n",
              "      <td>[Whitney Houston, Mario Iscovich, Debra Martin...</td>\n",
              "      <td>[Garry Marshall]</td>\n",
              "    </tr>\n",
              "    <tr>\n",
              "      <th>2</th>\n",
              "      <td>Whiplash</td>\n",
              "      <td>[David Lancaster, Michel Litvak, Jason Blum, H...</td>\n",
              "      <td>[Damien Chazelle]</td>\n",
              "    </tr>\n",
              "    <tr>\n",
              "      <th>3</th>\n",
              "      <td>Kahaani</td>\n",
              "      <td>[Sujoy Ghosh]</td>\n",
              "      <td>[Sujoy Ghosh]</td>\n",
              "    </tr>\n",
              "    <tr>\n",
              "      <th>4</th>\n",
              "      <td>마린보이</td>\n",
              "      <td>[]</td>\n",
              "      <td>[Jong-seok Yoon]</td>\n",
              "    </tr>\n",
              "  </tbody>\n",
              "</table>\n",
              "</div>"
            ],
            "text/plain": [
              "                             original_title  ...          Directors\n",
              "0                    Hot Tub Time Machine 2  ...       [Steve Pink]\n",
              "1  The Princess Diaries 2: Royal Engagement  ...   [Garry Marshall]\n",
              "2                                  Whiplash  ...  [Damien Chazelle]\n",
              "3                                   Kahaani  ...      [Sujoy Ghosh]\n",
              "4                                      마린보이  ...   [Jong-seok Yoon]\n",
              "\n",
              "[5 rows x 3 columns]"
            ]
          },
          "metadata": {
            "tags": []
          },
          "execution_count": 277
        }
      ]
    },
    {
      "cell_type": "code",
      "metadata": {
        "colab": {
          "base_uri": "https://localhost:8080/",
          "height": 204
        },
        "id": "hPmQPfjaVM4c",
        "outputId": "d436706d-af70-405c-f093-aa1c4be386a1"
      },
      "source": [
        "#Second dataframe according to given ques consist of another 3 column - Movies,Producer and ROI\n",
        "column7=['original_title','Producers','ROI']\n",
        "df_prod_dir=pd.DataFrame(df_imdb_dir,columns=column7)\n",
        "df_prod_dir.head(5)"
      ],
      "execution_count": 279,
      "outputs": [
        {
          "output_type": "execute_result",
          "data": {
            "text/html": [
              "<div>\n",
              "<style scoped>\n",
              "    .dataframe tbody tr th:only-of-type {\n",
              "        vertical-align: middle;\n",
              "    }\n",
              "\n",
              "    .dataframe tbody tr th {\n",
              "        vertical-align: top;\n",
              "    }\n",
              "\n",
              "    .dataframe thead th {\n",
              "        text-align: right;\n",
              "    }\n",
              "</style>\n",
              "<table border=\"1\" class=\"dataframe\">\n",
              "  <thead>\n",
              "    <tr style=\"text-align: right;\">\n",
              "      <th></th>\n",
              "      <th>original_title</th>\n",
              "      <th>Producers</th>\n",
              "      <th>ROI</th>\n",
              "    </tr>\n",
              "  </thead>\n",
              "  <tbody>\n",
              "    <tr>\n",
              "      <th>0</th>\n",
              "      <td>Hot Tub Time Machine 2</td>\n",
              "      <td>[Andrew Panay]</td>\n",
              "      <td>-12</td>\n",
              "    </tr>\n",
              "    <tr>\n",
              "      <th>1</th>\n",
              "      <td>The Princess Diaries 2: Royal Engagement</td>\n",
              "      <td>[Whitney Houston, Mario Iscovich, Debra Martin...</td>\n",
              "      <td>137</td>\n",
              "    </tr>\n",
              "    <tr>\n",
              "      <th>2</th>\n",
              "      <td>Whiplash</td>\n",
              "      <td>[David Lancaster, Michel Litvak, Jason Blum, H...</td>\n",
              "      <td>296</td>\n",
              "    </tr>\n",
              "    <tr>\n",
              "      <th>3</th>\n",
              "      <td>Kahaani</td>\n",
              "      <td>[Sujoy Ghosh]</td>\n",
              "      <td>1233</td>\n",
              "    </tr>\n",
              "    <tr>\n",
              "      <th>4</th>\n",
              "      <td>마린보이</td>\n",
              "      <td>[]</td>\n",
              "      <td>0</td>\n",
              "    </tr>\n",
              "  </tbody>\n",
              "</table>\n",
              "</div>"
            ],
            "text/plain": [
              "                             original_title  ...   ROI\n",
              "0                    Hot Tub Time Machine 2  ...   -12\n",
              "1  The Princess Diaries 2: Royal Engagement  ...   137\n",
              "2                                  Whiplash  ...   296\n",
              "3                                   Kahaani  ...  1233\n",
              "4                                      마린보이  ...     0\n",
              "\n",
              "[5 rows x 3 columns]"
            ]
          },
          "metadata": {
            "tags": []
          },
          "execution_count": 279
        }
      ]
    },
    {
      "cell_type": "code",
      "metadata": {
        "id": "7IMItMD-V1O0"
      },
      "source": [
        "df_prod_dir=df_prod_dir.explode('Producers')"
      ],
      "execution_count": 280,
      "outputs": []
    },
    {
      "cell_type": "code",
      "metadata": {
        "colab": {
          "base_uri": "https://localhost:8080/",
          "height": 359
        },
        "id": "qarA-5mgW3U7",
        "outputId": "fca83a48-cae2-4fe8-af7e-ed28dc6f5373"
      },
      "source": [
        "df_prod_dir.head(10)"
      ],
      "execution_count": 281,
      "outputs": [
        {
          "output_type": "execute_result",
          "data": {
            "text/html": [
              "<div>\n",
              "<style scoped>\n",
              "    .dataframe tbody tr th:only-of-type {\n",
              "        vertical-align: middle;\n",
              "    }\n",
              "\n",
              "    .dataframe tbody tr th {\n",
              "        vertical-align: top;\n",
              "    }\n",
              "\n",
              "    .dataframe thead th {\n",
              "        text-align: right;\n",
              "    }\n",
              "</style>\n",
              "<table border=\"1\" class=\"dataframe\">\n",
              "  <thead>\n",
              "    <tr style=\"text-align: right;\">\n",
              "      <th></th>\n",
              "      <th>original_title</th>\n",
              "      <th>Producers</th>\n",
              "      <th>ROI</th>\n",
              "    </tr>\n",
              "  </thead>\n",
              "  <tbody>\n",
              "    <tr>\n",
              "      <th>0</th>\n",
              "      <td>Hot Tub Time Machine 2</td>\n",
              "      <td>Andrew Panay</td>\n",
              "      <td>-12</td>\n",
              "    </tr>\n",
              "    <tr>\n",
              "      <th>1</th>\n",
              "      <td>The Princess Diaries 2: Royal Engagement</td>\n",
              "      <td>Whitney Houston</td>\n",
              "      <td>137</td>\n",
              "    </tr>\n",
              "    <tr>\n",
              "      <th>1</th>\n",
              "      <td>The Princess Diaries 2: Royal Engagement</td>\n",
              "      <td>Mario Iscovich</td>\n",
              "      <td>137</td>\n",
              "    </tr>\n",
              "    <tr>\n",
              "      <th>1</th>\n",
              "      <td>The Princess Diaries 2: Royal Engagement</td>\n",
              "      <td>Debra Martin Chase</td>\n",
              "      <td>137</td>\n",
              "    </tr>\n",
              "    <tr>\n",
              "      <th>2</th>\n",
              "      <td>Whiplash</td>\n",
              "      <td>David Lancaster</td>\n",
              "      <td>296</td>\n",
              "    </tr>\n",
              "    <tr>\n",
              "      <th>2</th>\n",
              "      <td>Whiplash</td>\n",
              "      <td>Michel Litvak</td>\n",
              "      <td>296</td>\n",
              "    </tr>\n",
              "    <tr>\n",
              "      <th>2</th>\n",
              "      <td>Whiplash</td>\n",
              "      <td>Jason Blum</td>\n",
              "      <td>296</td>\n",
              "    </tr>\n",
              "    <tr>\n",
              "      <th>2</th>\n",
              "      <td>Whiplash</td>\n",
              "      <td>Helen Estabrook</td>\n",
              "      <td>296</td>\n",
              "    </tr>\n",
              "    <tr>\n",
              "      <th>3</th>\n",
              "      <td>Kahaani</td>\n",
              "      <td>Sujoy Ghosh</td>\n",
              "      <td>1233</td>\n",
              "    </tr>\n",
              "    <tr>\n",
              "      <th>4</th>\n",
              "      <td>마린보이</td>\n",
              "      <td>NaN</td>\n",
              "      <td>0</td>\n",
              "    </tr>\n",
              "  </tbody>\n",
              "</table>\n",
              "</div>"
            ],
            "text/plain": [
              "                             original_title           Producers   ROI\n",
              "0                    Hot Tub Time Machine 2        Andrew Panay   -12\n",
              "1  The Princess Diaries 2: Royal Engagement     Whitney Houston   137\n",
              "1  The Princess Diaries 2: Royal Engagement      Mario Iscovich   137\n",
              "1  The Princess Diaries 2: Royal Engagement  Debra Martin Chase   137\n",
              "2                                  Whiplash     David Lancaster   296\n",
              "2                                  Whiplash       Michel Litvak   296\n",
              "2                                  Whiplash          Jason Blum   296\n",
              "2                                  Whiplash     Helen Estabrook   296\n",
              "3                                   Kahaani         Sujoy Ghosh  1233\n",
              "4                                      마린보이                 NaN     0"
            ]
          },
          "metadata": {
            "tags": []
          },
          "execution_count": 281
        }
      ]
    },
    {
      "cell_type": "code",
      "metadata": {
        "id": "Qqdu1hgOW5JS"
      },
      "source": [
        "# DataFrame3\n",
        "Producer   Movies         Average_ROI\n",
        "p1.    [m1, m2, m3]    avg_roi(m1, m2, m3)\n",
        "p2     [m2, m4, m5]    avg_roi(m2, m4, m5)"
      ],
      "execution_count": null,
      "outputs": []
    },
    {
      "cell_type": "code",
      "metadata": {
        "id": "iL8FqjH9wLtv"
      },
      "source": [
        "df_avg_movies =  df_prod_dir.groupby(['Producers','original_title'],as_index=False).ROI.mean()"
      ],
      "execution_count": 282,
      "outputs": []
    },
    {
      "cell_type": "code",
      "metadata": {
        "colab": {
          "base_uri": "https://localhost:8080/",
          "height": 204
        },
        "id": "WOXni57s1s5t",
        "outputId": "26e8dd8b-f76e-4d46-80fc-2f63352a4d08"
      },
      "source": [
        "df_avg_movies.head(5)"
      ],
      "execution_count": 283,
      "outputs": [
        {
          "output_type": "execute_result",
          "data": {
            "text/html": [
              "<div>\n",
              "<style scoped>\n",
              "    .dataframe tbody tr th:only-of-type {\n",
              "        vertical-align: middle;\n",
              "    }\n",
              "\n",
              "    .dataframe tbody tr th {\n",
              "        vertical-align: top;\n",
              "    }\n",
              "\n",
              "    .dataframe thead th {\n",
              "        text-align: right;\n",
              "    }\n",
              "</style>\n",
              "<table border=\"1\" class=\"dataframe\">\n",
              "  <thead>\n",
              "    <tr style=\"text-align: right;\">\n",
              "      <th></th>\n",
              "      <th>Producers</th>\n",
              "      <th>original_title</th>\n",
              "      <th>ROI</th>\n",
              "    </tr>\n",
              "  </thead>\n",
              "  <tbody>\n",
              "    <tr>\n",
              "      <th>0</th>\n",
              "      <td>50 Cent</td>\n",
              "      <td>Setup</td>\n",
              "      <td>-89</td>\n",
              "    </tr>\n",
              "    <tr>\n",
              "      <th>1</th>\n",
              "      <td>50 Cent</td>\n",
              "      <td>The Frozen Ground</td>\n",
              "      <td>-79</td>\n",
              "    </tr>\n",
              "    <tr>\n",
              "      <th>2</th>\n",
              "      <td>A. M. Rathnam</td>\n",
              "      <td>Arrambam</td>\n",
              "      <td>128</td>\n",
              "    </tr>\n",
              "    <tr>\n",
              "      <th>3</th>\n",
              "      <td>A. M. Rathnam</td>\n",
              "      <td>Kandukondain Kandukondain</td>\n",
              "      <td>0</td>\n",
              "    </tr>\n",
              "    <tr>\n",
              "      <th>4</th>\n",
              "      <td>A. V. M. Saravanan</td>\n",
              "      <td>Ayan</td>\n",
              "      <td>457</td>\n",
              "    </tr>\n",
              "  </tbody>\n",
              "</table>\n",
              "</div>"
            ],
            "text/plain": [
              "            Producers             original_title  ROI\n",
              "0             50 Cent                      Setup  -89\n",
              "1             50 Cent          The Frozen Ground  -79\n",
              "2       A. M. Rathnam                   Arrambam  128\n",
              "3       A. M. Rathnam  Kandukondain Kandukondain    0\n",
              "4  A. V. M. Saravanan                       Ayan  457"
            ]
          },
          "metadata": {
            "tags": []
          },
          "execution_count": 283
        }
      ]
    },
    {
      "cell_type": "code",
      "metadata": {
        "id": "Pk8T2XPNXGpA"
      },
      "source": [
        "#third Dataframe has grouped movies of individual Producer and then calculated their average ROI\n",
        "df_prod_movies=df_prod_dir.groupby('Producers')['original_title'].apply(list)"
      ],
      "execution_count": 284,
      "outputs": []
    },
    {
      "cell_type": "code",
      "metadata": {
        "colab": {
          "base_uri": "https://localhost:8080/"
        },
        "id": "4XXBhypSYes6",
        "outputId": "a5954fc6-fed5-4995-d14e-3576118dee38"
      },
      "source": [
        "df_prod_movies.head(10)"
      ],
      "execution_count": 285,
      "outputs": [
        {
          "output_type": "execute_result",
          "data": {
            "text/plain": [
              "Producers\n",
              "50 Cent                          [Setup, The Frozen Ground]\n",
              "A. M. Rathnam         [Kandukondain Kandukondain, Arrambam]\n",
              "A. V. M. Saravanan                           [சிவாஜி, Ayan]\n",
              "A.J. Dix                [The Butterfly Effect, Dark Places]\n",
              "Aamir Khan                  [दंगल, Jaane Tu... Ya Jaane Na]\n",
              "Aaron L. Gilbert                          [I Saw the Light]\n",
              "Aaron Lubin                               [Nice Guy Johnny]\n",
              "Aaron Mazzolini                                 [Crossover]\n",
              "Aaron Russo                           [The Rose, Wise Guys]\n",
              "Aaron Ryder                       [The Raven, The Prestige]\n",
              "Name: original_title, dtype: object"
            ]
          },
          "metadata": {
            "tags": []
          },
          "execution_count": 285
        }
      ]
    },
    {
      "cell_type": "code",
      "metadata": {
        "id": "qvA9umMV4ATe"
      },
      "source": [
        "df_prod_ROI=df_prod_dir.groupby('Producers')['ROI'].apply(list)"
      ],
      "execution_count": 286,
      "outputs": []
    },
    {
      "cell_type": "code",
      "metadata": {
        "colab": {
          "base_uri": "https://localhost:8080/"
        },
        "id": "TW5wroOX4GK9",
        "outputId": "11761094-5b1d-409d-b5bd-b652a162d0d0"
      },
      "source": [
        "df_prod_ROI.head(10)"
      ],
      "execution_count": 287,
      "outputs": [
        {
          "output_type": "execute_result",
          "data": {
            "text/plain": [
              "Producers\n",
              "50 Cent                [-89, -79]\n",
              "A. M. Rathnam            [0, 128]\n",
              "A. V. M. Saravanan      [58, 457]\n",
              "A.J. Dix               [638, -98]\n",
              "Aamir Khan            [2880, 382]\n",
              "Aaron L. Gilbert            [-87]\n",
              "Aaron Lubin                   [0]\n",
              "Aaron Mazzolini              [20]\n",
              "Aaron Russo            [215, -34]\n",
              "Aaron Ryder             [14, 174]\n",
              "Name: ROI, dtype: object"
            ]
          },
          "metadata": {
            "tags": []
          },
          "execution_count": 287
        }
      ]
    },
    {
      "cell_type": "code",
      "metadata": {
        "id": "IyLS8XDL4UBK"
      },
      "source": [
        "df_movie_ROI=pd.merge(df_prod_movies, df_prod_ROI, on=\"Producers\")"
      ],
      "execution_count": 288,
      "outputs": []
    },
    {
      "cell_type": "code",
      "metadata": {
        "colab": {
          "base_uri": "https://localhost:8080/",
          "height": 390
        },
        "id": "g8rri2IB4fJZ",
        "outputId": "32f33746-4f42-48e0-8006-7e1f5998ed69"
      },
      "source": [
        "df_movie_ROI.head(10)"
      ],
      "execution_count": 289,
      "outputs": [
        {
          "output_type": "execute_result",
          "data": {
            "text/html": [
              "<div>\n",
              "<style scoped>\n",
              "    .dataframe tbody tr th:only-of-type {\n",
              "        vertical-align: middle;\n",
              "    }\n",
              "\n",
              "    .dataframe tbody tr th {\n",
              "        vertical-align: top;\n",
              "    }\n",
              "\n",
              "    .dataframe thead th {\n",
              "        text-align: right;\n",
              "    }\n",
              "</style>\n",
              "<table border=\"1\" class=\"dataframe\">\n",
              "  <thead>\n",
              "    <tr style=\"text-align: right;\">\n",
              "      <th></th>\n",
              "      <th>original_title</th>\n",
              "      <th>ROI</th>\n",
              "    </tr>\n",
              "    <tr>\n",
              "      <th>Producers</th>\n",
              "      <th></th>\n",
              "      <th></th>\n",
              "    </tr>\n",
              "  </thead>\n",
              "  <tbody>\n",
              "    <tr>\n",
              "      <th>50 Cent</th>\n",
              "      <td>[Setup, The Frozen Ground]</td>\n",
              "      <td>[-89, -79]</td>\n",
              "    </tr>\n",
              "    <tr>\n",
              "      <th>A. M. Rathnam</th>\n",
              "      <td>[Kandukondain Kandukondain, Arrambam]</td>\n",
              "      <td>[0, 128]</td>\n",
              "    </tr>\n",
              "    <tr>\n",
              "      <th>A. V. M. Saravanan</th>\n",
              "      <td>[சிவாஜி, Ayan]</td>\n",
              "      <td>[58, 457]</td>\n",
              "    </tr>\n",
              "    <tr>\n",
              "      <th>A.J. Dix</th>\n",
              "      <td>[The Butterfly Effect, Dark Places]</td>\n",
              "      <td>[638, -98]</td>\n",
              "    </tr>\n",
              "    <tr>\n",
              "      <th>Aamir Khan</th>\n",
              "      <td>[दंगल, Jaane Tu... Ya Jaane Na]</td>\n",
              "      <td>[2880, 382]</td>\n",
              "    </tr>\n",
              "    <tr>\n",
              "      <th>Aaron L. Gilbert</th>\n",
              "      <td>[I Saw the Light]</td>\n",
              "      <td>[-87]</td>\n",
              "    </tr>\n",
              "    <tr>\n",
              "      <th>Aaron Lubin</th>\n",
              "      <td>[Nice Guy Johnny]</td>\n",
              "      <td>[0]</td>\n",
              "    </tr>\n",
              "    <tr>\n",
              "      <th>Aaron Mazzolini</th>\n",
              "      <td>[Crossover]</td>\n",
              "      <td>[20]</td>\n",
              "    </tr>\n",
              "    <tr>\n",
              "      <th>Aaron Russo</th>\n",
              "      <td>[The Rose, Wise Guys]</td>\n",
              "      <td>[215, -34]</td>\n",
              "    </tr>\n",
              "    <tr>\n",
              "      <th>Aaron Ryder</th>\n",
              "      <td>[The Raven, The Prestige]</td>\n",
              "      <td>[14, 174]</td>\n",
              "    </tr>\n",
              "  </tbody>\n",
              "</table>\n",
              "</div>"
            ],
            "text/plain": [
              "                                           original_title          ROI\n",
              "Producers                                                             \n",
              "50 Cent                        [Setup, The Frozen Ground]   [-89, -79]\n",
              "A. M. Rathnam       [Kandukondain Kandukondain, Arrambam]     [0, 128]\n",
              "A. V. M. Saravanan                         [சிவாஜி, Ayan]    [58, 457]\n",
              "A.J. Dix              [The Butterfly Effect, Dark Places]   [638, -98]\n",
              "Aamir Khan                [दंगल, Jaane Tu... Ya Jaane Na]  [2880, 382]\n",
              "Aaron L. Gilbert                        [I Saw the Light]        [-87]\n",
              "Aaron Lubin                             [Nice Guy Johnny]          [0]\n",
              "Aaron Mazzolini                               [Crossover]         [20]\n",
              "Aaron Russo                         [The Rose, Wise Guys]   [215, -34]\n",
              "Aaron Ryder                     [The Raven, The Prestige]    [14, 174]"
            ]
          },
          "metadata": {
            "tags": []
          },
          "execution_count": 289
        }
      ]
    },
    {
      "cell_type": "code",
      "metadata": {
        "id": "pdr0md9N4iAF"
      },
      "source": [
        "#function to find the average of ROI\n",
        "def avg_roi(ROI):\n",
        "  return sum(ROI) / len(ROI)"
      ],
      "execution_count": 290,
      "outputs": []
    },
    {
      "cell_type": "code",
      "metadata": {
        "colab": {
          "base_uri": "https://localhost:8080/",
          "height": 390
        },
        "id": "oO-FuAKW5Uqf",
        "outputId": "3e9ececb-3824-4029-9c26-cf85bfabc938"
      },
      "source": [
        "#create new column having average ROI\n",
        "df_movie_ROI['Average_ROI']=df_movie_ROI.apply(lambda x : avg_roi(x['ROI']),axis=1)\n",
        "df_movie_ROI.head(10)"
      ],
      "execution_count": 291,
      "outputs": [
        {
          "output_type": "execute_result",
          "data": {
            "text/html": [
              "<div>\n",
              "<style scoped>\n",
              "    .dataframe tbody tr th:only-of-type {\n",
              "        vertical-align: middle;\n",
              "    }\n",
              "\n",
              "    .dataframe tbody tr th {\n",
              "        vertical-align: top;\n",
              "    }\n",
              "\n",
              "    .dataframe thead th {\n",
              "        text-align: right;\n",
              "    }\n",
              "</style>\n",
              "<table border=\"1\" class=\"dataframe\">\n",
              "  <thead>\n",
              "    <tr style=\"text-align: right;\">\n",
              "      <th></th>\n",
              "      <th>original_title</th>\n",
              "      <th>ROI</th>\n",
              "      <th>Average_ROI</th>\n",
              "    </tr>\n",
              "    <tr>\n",
              "      <th>Producers</th>\n",
              "      <th></th>\n",
              "      <th></th>\n",
              "      <th></th>\n",
              "    </tr>\n",
              "  </thead>\n",
              "  <tbody>\n",
              "    <tr>\n",
              "      <th>50 Cent</th>\n",
              "      <td>[Setup, The Frozen Ground]</td>\n",
              "      <td>[-89, -79]</td>\n",
              "      <td>-84.0</td>\n",
              "    </tr>\n",
              "    <tr>\n",
              "      <th>A. M. Rathnam</th>\n",
              "      <td>[Kandukondain Kandukondain, Arrambam]</td>\n",
              "      <td>[0, 128]</td>\n",
              "      <td>64.0</td>\n",
              "    </tr>\n",
              "    <tr>\n",
              "      <th>A. V. M. Saravanan</th>\n",
              "      <td>[சிவாஜி, Ayan]</td>\n",
              "      <td>[58, 457]</td>\n",
              "      <td>257.5</td>\n",
              "    </tr>\n",
              "    <tr>\n",
              "      <th>A.J. Dix</th>\n",
              "      <td>[The Butterfly Effect, Dark Places]</td>\n",
              "      <td>[638, -98]</td>\n",
              "      <td>270.0</td>\n",
              "    </tr>\n",
              "    <tr>\n",
              "      <th>Aamir Khan</th>\n",
              "      <td>[दंगल, Jaane Tu... Ya Jaane Na]</td>\n",
              "      <td>[2880, 382]</td>\n",
              "      <td>1631.0</td>\n",
              "    </tr>\n",
              "    <tr>\n",
              "      <th>Aaron L. Gilbert</th>\n",
              "      <td>[I Saw the Light]</td>\n",
              "      <td>[-87]</td>\n",
              "      <td>-87.0</td>\n",
              "    </tr>\n",
              "    <tr>\n",
              "      <th>Aaron Lubin</th>\n",
              "      <td>[Nice Guy Johnny]</td>\n",
              "      <td>[0]</td>\n",
              "      <td>0.0</td>\n",
              "    </tr>\n",
              "    <tr>\n",
              "      <th>Aaron Mazzolini</th>\n",
              "      <td>[Crossover]</td>\n",
              "      <td>[20]</td>\n",
              "      <td>20.0</td>\n",
              "    </tr>\n",
              "    <tr>\n",
              "      <th>Aaron Russo</th>\n",
              "      <td>[The Rose, Wise Guys]</td>\n",
              "      <td>[215, -34]</td>\n",
              "      <td>90.5</td>\n",
              "    </tr>\n",
              "    <tr>\n",
              "      <th>Aaron Ryder</th>\n",
              "      <td>[The Raven, The Prestige]</td>\n",
              "      <td>[14, 174]</td>\n",
              "      <td>94.0</td>\n",
              "    </tr>\n",
              "  </tbody>\n",
              "</table>\n",
              "</div>"
            ],
            "text/plain": [
              "                                           original_title  ... Average_ROI\n",
              "Producers                                                  ...            \n",
              "50 Cent                        [Setup, The Frozen Ground]  ...       -84.0\n",
              "A. M. Rathnam       [Kandukondain Kandukondain, Arrambam]  ...        64.0\n",
              "A. V. M. Saravanan                         [சிவாஜி, Ayan]  ...       257.5\n",
              "A.J. Dix              [The Butterfly Effect, Dark Places]  ...       270.0\n",
              "Aamir Khan                [दंगल, Jaane Tu... Ya Jaane Na]  ...      1631.0\n",
              "Aaron L. Gilbert                        [I Saw the Light]  ...       -87.0\n",
              "Aaron Lubin                             [Nice Guy Johnny]  ...         0.0\n",
              "Aaron Mazzolini                               [Crossover]  ...        20.0\n",
              "Aaron Russo                         [The Rose, Wise Guys]  ...        90.5\n",
              "Aaron Ryder                     [The Raven, The Prestige]  ...        94.0\n",
              "\n",
              "[10 rows x 3 columns]"
            ]
          },
          "metadata": {
            "tags": []
          },
          "execution_count": 291
        }
      ]
    }
  ]
}